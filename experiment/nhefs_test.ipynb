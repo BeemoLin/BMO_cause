{
 "cells": [
  {
   "cell_type": "code",
   "execution_count": 1,
   "metadata": {},
   "outputs": [
    {
     "name": "stdout",
     "output_type": "stream",
     "text": [
      "['1.19.5', '1.1.5', '0.19.1', '1.5.5']\n"
     ]
    }
   ],
   "source": [
    "import numpy as np\n",
    "import pandas as pd\n",
    "import graphviz\n",
    "import lingam\n",
    "from lingam.utils import make_dot\n",
    "\n",
    "print([np.__version__, pd.__version__, graphviz.__version__, lingam.__version__])\n",
    "\n",
    "np.set_printoptions(precision=3, suppress=True)\n",
    "np.random.seed(1)"
   ]
  },
  {
   "cell_type": "code",
   "execution_count": 2,
   "metadata": {},
   "outputs": [],
   "source": [
    "import torch\n",
    "torch.cuda.set_device(0)\n",
    "\n",
    "torch.set_default_dtype(torch.double)\n",
    "np.set_printoptions(precision=3)"
   ]
  },
  {
   "cell_type": "code",
   "execution_count": 3,
   "metadata": {},
   "outputs": [],
   "source": [
    "from notears.nonlinear import NotearsMLP, notears_nonlinear\n",
    "from notears import utils\n",
    "\n",
    "# model = NotearsMLP(dims=[d, 10, 1], bias=True)\n",
    "# W_est = notears_nonlinear(model, X, lambda1=0.01, lambda2=0.01)\n",
    "\n",
    "utils.set_random_seed(1)"
   ]
  },
  {
   "cell_type": "code",
   "execution_count": 4,
   "metadata": {},
   "outputs": [
    {
     "name": "stdout",
     "output_type": "stream",
     "text": [
      "[[-2.176 -0.597 -0.492 ...  0.113  0.544  0.453]\n",
      " [-2.176 -0.597 -0.492 ...  0.414  0.852  0.847]\n",
      " [-2.175 -0.597 -0.492 ... -0.521 -0.587 -0.374]\n",
      " ...\n",
      " [ 1.13  -0.597 -0.492 ...  0.113 -0.305 -0.496]\n",
      " [ 1.131 -0.597 -0.492 ...  0.354 -0.086  0.091]\n",
      " [ 1.135  1.675 -0.492 ...  0.354 -0.086  0.091]]\n"
     ]
    },
    {
     "data": {
      "text/plain": [
       "numpy.ndarray"
      ]
     },
     "execution_count": 4,
     "metadata": {},
     "output_type": "execute_result"
    }
   ],
   "source": [
    "df = pd.read_csv(\"datasets/nhefs.csv\", skiprows = 1, header=None)\n",
    "df = df.fillna(-1).reset_index(drop=True)\n",
    "\n",
    "X = df\n",
    "X = (X-X.mean())/X.std()\n",
    "X = X.to_numpy()\n",
    "print(X)\n",
    "\n",
    "type(X)"
   ]
  },
  {
   "cell_type": "code",
   "execution_count": 5,
   "metadata": {},
   "outputs": [
    {
     "data": {
      "text/plain": [
       "(1629, 64)"
      ]
     },
     "execution_count": 5,
     "metadata": {},
     "output_type": "execute_result"
    }
   ],
   "source": [
    "X.shape"
   ]
  },
  {
   "cell_type": "code",
   "execution_count": 6,
   "metadata": {},
   "outputs": [
    {
     "data": {
      "text/plain": [
       "numpy.ndarray"
      ]
     },
     "execution_count": 6,
     "metadata": {},
     "output_type": "execute_result"
    }
   ],
   "source": [
    "n, d, s0, graph_type, sem_type = 100, 20, 20, 'ER', 'gauss'\n",
    "B_true = utils.simulate_dag(d, s0, graph_type)\n",
    "W_true = utils.simulate_parameter(B_true)\n",
    "# np.savetxt('W_true.csv', W_true, delimiter=',')\n",
    "\n",
    "_X = utils.simulate_linear_sem(W_true, n, sem_type)\n",
    "# np.savetxt('X.csv', X, delimiter=',')\n",
    "_X.shape\n",
    "\n",
    "type(_X)"
   ]
  },
  {
   "cell_type": "code",
   "execution_count": null,
   "metadata": {},
   "outputs": [],
   "source": [
    "row_num = X.shape[0]\n",
    "col_num = X.shape[1]\n",
    "\n",
    "model = NotearsMLP(dims=[col_num, col_num, 1], bias=True)\n",
    "\n",
    "W_est = notears_nonlinear(model, X, lambda1=0.01, lambda2=0.01)"
   ]
  },
  {
   "cell_type": "code",
   "execution_count": null,
   "metadata": {},
   "outputs": [],
   "source": [
    "assert utils.is_dag(W_est)\n",
    "np.savetxt('W_est.csv', W_est, delimiter=',')"
   ]
  },
  {
   "cell_type": "code",
   "execution_count": null,
   "metadata": {},
   "outputs": [],
   "source": [
    "import pandas as pd\n",
    "from lingam.utils import make_dot\n",
    "\n",
    "result_matrix = pd.read_csv(\"W_true.csv\", header=None)\n",
    "\n",
    "result_matrix"
   ]
  },
  {
   "cell_type": "code",
   "execution_count": null,
   "metadata": {},
   "outputs": [],
   "source": [
    "dot = make_dot(result_matrix)\n",
    "\n",
    "# Save png\n",
    "dot.format = 'png'\n",
    "\n",
    "dot.render('./dag')"
   ]
  },
  {
   "cell_type": "code",
   "execution_count": null,
   "metadata": {},
   "outputs": [],
   "source": [
    "from IPython.display import Image\n",
    "Image(filename='dag.png') "
   ]
  }
 ],
 "metadata": {
  "kernelspec": {
   "display_name": "Python 3",
   "language": "python",
   "name": "python3"
  },
  "language_info": {
   "codemirror_mode": {
    "name": "ipython",
    "version": 3
   },
   "file_extension": ".py",
   "mimetype": "text/x-python",
   "name": "python",
   "nbconvert_exporter": "python",
   "pygments_lexer": "ipython3",
   "version": "3.6.9"
  }
 },
 "nbformat": 4,
 "nbformat_minor": 2
}
