{
 "cells": [
  {
   "cell_type": "code",
   "execution_count": 1,
   "metadata": {},
   "outputs": [],
   "source": [
    "# !apt-get update && apt-get install -y graphviz\n",
    "# !pip install pytz\n",
    "# !pip install networkx\n",
    "# !pip install pyyaml\n",
    "# !pip install graphviz\n",
    "# !pip install lingam"
   ]
  },
  {
   "cell_type": "code",
   "execution_count": 2,
   "metadata": {},
   "outputs": [],
   "source": [
    "import time\n",
    "\n",
    "start = time.time()"
   ]
  },
  {
   "cell_type": "code",
   "execution_count": 3,
   "metadata": {},
   "outputs": [],
   "source": [
    "import os\n",
    "import logging\n",
    "from pytz import timezone\n",
    "from datetime import datetime\n",
    "import numpy as np\n",
    "\n",
    "from data_loader import SyntheticDataset\n",
    "from models import NoTears\n",
    "from trainers import ALTrainer\n",
    "from helpers.config_utils import save_yaml_config, get_train_args\n",
    "from helpers.log_helper import LogHelper\n",
    "from helpers.tf_utils import set_seed\n",
    "from helpers.dir_utils import create_dir\n",
    "from helpers.analyze_utils import count_accuracy, plot_estimated_graph\n",
    "\n",
    "# For logging of tensorflow messages\n",
    "os.environ['TF_CPP_MIN_LOG_LEVEL'] = '2'"
   ]
  },
  {
   "cell_type": "code",
   "execution_count": 4,
   "metadata": {
    "scrolled": false
   },
   "outputs": [
    {
     "data": {
      "text/html": [
       "<div>\n",
       "<style scoped>\n",
       "    .dataframe tbody tr th:only-of-type {\n",
       "        vertical-align: middle;\n",
       "    }\n",
       "\n",
       "    .dataframe tbody tr th {\n",
       "        vertical-align: top;\n",
       "    }\n",
       "\n",
       "    .dataframe thead th {\n",
       "        text-align: right;\n",
       "    }\n",
       "</style>\n",
       "<table border=\"1\" class=\"dataframe\">\n",
       "  <thead>\n",
       "    <tr style=\"text-align: right;\">\n",
       "      <th></th>\n",
       "      <th>Smoking</th>\n",
       "      <th>Yellow_Fingers</th>\n",
       "      <th>Anxiety</th>\n",
       "      <th>Peer_Pressure</th>\n",
       "      <th>Genetics</th>\n",
       "      <th>Attention_Disorder</th>\n",
       "      <th>Born_an_Even_Day</th>\n",
       "      <th>Car_Accident</th>\n",
       "      <th>Fatigue</th>\n",
       "      <th>Allergy</th>\n",
       "      <th>Coughing</th>\n",
       "      <th>Lung_cancer</th>\n",
       "    </tr>\n",
       "  </thead>\n",
       "  <tbody>\n",
       "    <tr>\n",
       "      <th>0</th>\n",
       "      <td>0</td>\n",
       "      <td>0</td>\n",
       "      <td>1</td>\n",
       "      <td>0</td>\n",
       "      <td>0</td>\n",
       "      <td>1</td>\n",
       "      <td>0</td>\n",
       "      <td>1</td>\n",
       "      <td>0</td>\n",
       "      <td>1</td>\n",
       "      <td>0</td>\n",
       "      <td>0</td>\n",
       "    </tr>\n",
       "    <tr>\n",
       "      <th>1</th>\n",
       "      <td>0</td>\n",
       "      <td>1</td>\n",
       "      <td>0</td>\n",
       "      <td>0</td>\n",
       "      <td>0</td>\n",
       "      <td>0</td>\n",
       "      <td>1</td>\n",
       "      <td>0</td>\n",
       "      <td>1</td>\n",
       "      <td>0</td>\n",
       "      <td>1</td>\n",
       "      <td>1</td>\n",
       "    </tr>\n",
       "    <tr>\n",
       "      <th>2</th>\n",
       "      <td>1</td>\n",
       "      <td>1</td>\n",
       "      <td>1</td>\n",
       "      <td>0</td>\n",
       "      <td>1</td>\n",
       "      <td>1</td>\n",
       "      <td>1</td>\n",
       "      <td>1</td>\n",
       "      <td>1</td>\n",
       "      <td>1</td>\n",
       "      <td>1</td>\n",
       "      <td>1</td>\n",
       "    </tr>\n",
       "    <tr>\n",
       "      <th>3</th>\n",
       "      <td>0</td>\n",
       "      <td>0</td>\n",
       "      <td>0</td>\n",
       "      <td>1</td>\n",
       "      <td>0</td>\n",
       "      <td>0</td>\n",
       "      <td>1</td>\n",
       "      <td>0</td>\n",
       "      <td>0</td>\n",
       "      <td>0</td>\n",
       "      <td>0</td>\n",
       "      <td>0</td>\n",
       "    </tr>\n",
       "    <tr>\n",
       "      <th>4</th>\n",
       "      <td>1</td>\n",
       "      <td>1</td>\n",
       "      <td>1</td>\n",
       "      <td>0</td>\n",
       "      <td>0</td>\n",
       "      <td>1</td>\n",
       "      <td>1</td>\n",
       "      <td>1</td>\n",
       "      <td>1</td>\n",
       "      <td>0</td>\n",
       "      <td>0</td>\n",
       "      <td>1</td>\n",
       "    </tr>\n",
       "    <tr>\n",
       "      <th>...</th>\n",
       "      <td>...</td>\n",
       "      <td>...</td>\n",
       "      <td>...</td>\n",
       "      <td>...</td>\n",
       "      <td>...</td>\n",
       "      <td>...</td>\n",
       "      <td>...</td>\n",
       "      <td>...</td>\n",
       "      <td>...</td>\n",
       "      <td>...</td>\n",
       "      <td>...</td>\n",
       "      <td>...</td>\n",
       "    </tr>\n",
       "    <tr>\n",
       "      <th>1995</th>\n",
       "      <td>0</td>\n",
       "      <td>0</td>\n",
       "      <td>1</td>\n",
       "      <td>0</td>\n",
       "      <td>0</td>\n",
       "      <td>0</td>\n",
       "      <td>0</td>\n",
       "      <td>1</td>\n",
       "      <td>1</td>\n",
       "      <td>0</td>\n",
       "      <td>1</td>\n",
       "      <td>1</td>\n",
       "    </tr>\n",
       "    <tr>\n",
       "      <th>1996</th>\n",
       "      <td>1</td>\n",
       "      <td>1</td>\n",
       "      <td>1</td>\n",
       "      <td>0</td>\n",
       "      <td>0</td>\n",
       "      <td>0</td>\n",
       "      <td>0</td>\n",
       "      <td>0</td>\n",
       "      <td>1</td>\n",
       "      <td>0</td>\n",
       "      <td>1</td>\n",
       "      <td>1</td>\n",
       "    </tr>\n",
       "    <tr>\n",
       "      <th>1997</th>\n",
       "      <td>1</td>\n",
       "      <td>1</td>\n",
       "      <td>0</td>\n",
       "      <td>1</td>\n",
       "      <td>0</td>\n",
       "      <td>0</td>\n",
       "      <td>1</td>\n",
       "      <td>0</td>\n",
       "      <td>1</td>\n",
       "      <td>0</td>\n",
       "      <td>0</td>\n",
       "      <td>1</td>\n",
       "    </tr>\n",
       "    <tr>\n",
       "      <th>1998</th>\n",
       "      <td>1</td>\n",
       "      <td>1</td>\n",
       "      <td>1</td>\n",
       "      <td>0</td>\n",
       "      <td>1</td>\n",
       "      <td>1</td>\n",
       "      <td>0</td>\n",
       "      <td>1</td>\n",
       "      <td>1</td>\n",
       "      <td>0</td>\n",
       "      <td>1</td>\n",
       "      <td>1</td>\n",
       "    </tr>\n",
       "    <tr>\n",
       "      <th>1999</th>\n",
       "      <td>1</td>\n",
       "      <td>1</td>\n",
       "      <td>0</td>\n",
       "      <td>1</td>\n",
       "      <td>0</td>\n",
       "      <td>0</td>\n",
       "      <td>0</td>\n",
       "      <td>0</td>\n",
       "      <td>1</td>\n",
       "      <td>1</td>\n",
       "      <td>1</td>\n",
       "      <td>1</td>\n",
       "    </tr>\n",
       "  </tbody>\n",
       "</table>\n",
       "<p>2000 rows × 12 columns</p>\n",
       "</div>"
      ],
      "text/plain": [
       "      Smoking  Yellow_Fingers  Anxiety  Peer_Pressure  Genetics  \\\n",
       "0           0               0        1              0         0   \n",
       "1           0               1        0              0         0   \n",
       "2           1               1        1              0         1   \n",
       "3           0               0        0              1         0   \n",
       "4           1               1        1              0         0   \n",
       "...       ...             ...      ...            ...       ...   \n",
       "1995        0               0        1              0         0   \n",
       "1996        1               1        1              0         0   \n",
       "1997        1               1        0              1         0   \n",
       "1998        1               1        1              0         1   \n",
       "1999        1               1        0              1         0   \n",
       "\n",
       "      Attention_Disorder  Born_an_Even_Day  Car_Accident  Fatigue  Allergy  \\\n",
       "0                      1                 0             1        0        1   \n",
       "1                      0                 1             0        1        0   \n",
       "2                      1                 1             1        1        1   \n",
       "3                      0                 1             0        0        0   \n",
       "4                      1                 1             1        1        0   \n",
       "...                  ...               ...           ...      ...      ...   \n",
       "1995                   0                 0             1        1        0   \n",
       "1996                   0                 0             0        1        0   \n",
       "1997                   0                 1             0        1        0   \n",
       "1998                   1                 0             1        1        0   \n",
       "1999                   0                 0             0        1        1   \n",
       "\n",
       "      Coughing  Lung_cancer  \n",
       "0            0            0  \n",
       "1            1            1  \n",
       "2            1            1  \n",
       "3            0            0  \n",
       "4            0            1  \n",
       "...        ...          ...  \n",
       "1995         1            1  \n",
       "1996         1            1  \n",
       "1997         0            1  \n",
       "1998         1            1  \n",
       "1999         1            1  \n",
       "\n",
       "[2000 rows x 12 columns]"
      ]
     },
     "execution_count": 4,
     "metadata": {},
     "output_type": "execute_result"
    }
   ],
   "source": [
    "import pandas as pd\n",
    "\n",
    "exp_name = 'lucas0_train'\n",
    "dataset_path = '../../experiment/datasets/{}.csv'.format(exp_name)\n",
    "# true_path = '../../experiment/datasets/{}/W_true.csv'.format(exp_name)\n",
    "\n",
    "headers = pd.read_csv(dataset_path, nrows=0).columns.tolist()\n",
    "# df = pd.read_csv(dataset_path, usecols=headers)\n",
    "\n",
    "df = pd.read_csv(dataset_path)\n",
    "\n",
    "X = df.to_numpy()\n",
    "\n",
    "# headers = []\n",
    "# for i in range(X.shape[1]):\n",
    "#     headers.append('x{}'.format(i))\n",
    "\n",
    "df"
   ]
  },
  {
   "cell_type": "code",
   "execution_count": 5,
   "metadata": {},
   "outputs": [],
   "source": [
    "# w_true = pd.read_csv(true_path, header=None)"
   ]
  },
  {
   "cell_type": "code",
   "execution_count": 6,
   "metadata": {},
   "outputs": [],
   "source": [
    "# Get arguments parsed\n",
    "args = get_train_args()\n",
    "\n",
    "args.n = X.shape[0]\n",
    "args.d = X.shape[1]"
   ]
  },
  {
   "cell_type": "code",
   "execution_count": 7,
   "metadata": {},
   "outputs": [
    {
     "name": "stderr",
     "output_type": "stream",
     "text": [
      "2022-04-14 11:46:51,718 INFO - helpers.log_helper - Finished configuring logger.\n",
      "2022-04-14 11:46:51,721 INFO - __main__ - Finished generating dataset\n"
     ]
    }
   ],
   "source": [
    "# Setup for logging\n",
    "output_dir = 'output/{}/{}'.format(exp_name, datetime.now(timezone('Asia/Taipei')).strftime('%Y-%m-%d_%H-%M-%S-%f')[:-3])\n",
    "create_dir(output_dir)\n",
    "LogHelper.setup(log_path='{}/training.log'.format(output_dir), level_str='INFO')\n",
    "_logger = logging.getLogger(__name__)\n",
    "\n",
    "# Save the configuration for logging purpose\n",
    "save_yaml_config(args, path='{}/config.yaml'.format(output_dir))\n",
    "\n",
    "# Reproducibility\n",
    "set_seed(args.seed)\n",
    "\n",
    "# Get dataset\n",
    "dataset = SyntheticDataset(args.n, args.d, args.graph_type, args.degree, args.sem_type,\n",
    "                           args.noise_scale, args.dataset_type)\n",
    "_logger.info('Finished generating dataset')"
   ]
  },
  {
   "cell_type": "code",
   "execution_count": 8,
   "metadata": {},
   "outputs": [
    {
     "data": {
      "text/plain": [
       "array([[0, 0, 1, ..., 1, 0, 0],\n",
       "       [0, 1, 0, ..., 0, 1, 1],\n",
       "       [1, 1, 1, ..., 1, 1, 1],\n",
       "       ...,\n",
       "       [1, 1, 0, ..., 0, 0, 1],\n",
       "       [1, 1, 1, ..., 0, 1, 1],\n",
       "       [1, 1, 0, ..., 1, 1, 1]])"
      ]
     },
     "execution_count": 8,
     "metadata": {},
     "output_type": "execute_result"
    }
   ],
   "source": [
    "dataset.X = X\n",
    "X"
   ]
  },
  {
   "cell_type": "code",
   "execution_count": 9,
   "metadata": {},
   "outputs": [],
   "source": [
    "# true answer\n",
    "# dataset.W = w_true.to_numpy()\n",
    "# w_true"
   ]
  },
  {
   "cell_type": "code",
   "execution_count": 10,
   "metadata": {
    "scrolled": false
   },
   "outputs": [
    {
     "name": "stderr",
     "output_type": "stream",
     "text": [
      "2022-04-14 11:46:52,483 INFO - models.notears - Model summary:\n",
      "2022-04-14 11:46:52,484 INFO - models.notears - ---------\n",
      "2022-04-14 11:46:52,484 INFO - models.notears - Variables: name (type shape) [size]\n",
      "2022-04-14 11:46:52,485 INFO - models.notears - ---------\n",
      "2022-04-14 11:46:52,485 INFO - models.notears - Variable:0 (float32 12x12) [144, bytes: 576]\n",
      "2022-04-14 11:46:52,486 INFO - models.notears - Total size of variables: 144\n",
      "2022-04-14 11:46:52,486 INFO - models.notears - Total bytes of variables: 576\n",
      "2022-04-14 11:46:52,528 INFO - trainers.al_trainer - Started training for 20 iterations\n",
      "2022-04-14 11:46:52,529 INFO - trainers.al_trainer - rho 1.000E+00, alpha 0.000E+00\n",
      "2022-04-14 11:46:56,029 INFO - trainers.al_trainer - [Iter 1] loss 9.388E-01, mse 3.722E+03, acyclic 1.294E-01, shd 25, tpr 0.136, fdr 0.700, pred_size 10\n",
      "2022-04-14 11:46:56,030 INFO - trainers.al_trainer - rho 1.000E+00, alpha 1.294E-01\n",
      "2022-04-14 11:46:58,764 INFO - trainers.al_trainer - rho 1.000E+01, alpha 1.294E-01\n",
      "2022-04-14 11:47:01,453 INFO - trainers.al_trainer - rho 1.000E+02, alpha 1.294E-01\n",
      "2022-04-14 11:47:04,130 INFO - trainers.al_trainer - [Iter 2] loss 1.013E+00, mse 3.977E+03, acyclic 1.793E-02, shd 23, tpr 0.091, fdr 0.667, pred_size 6\n",
      "2022-04-14 11:47:04,131 INFO - trainers.al_trainer - rho 1.000E+02, alpha 1.922E+00\n",
      "2022-04-14 11:47:06,838 INFO - trainers.al_trainer - rho 1.000E+03, alpha 1.922E+00\n",
      "2022-04-14 11:47:09,541 INFO - trainers.al_trainer - rho 1.000E+04, alpha 1.922E+00\n",
      "2022-04-14 11:47:12,231 INFO - trainers.al_trainer - [Iter 3] loss 1.090E+00, mse 4.285E+03, acyclic 1.773E-03, shd 26, tpr 0.091, fdr 0.778, pred_size 9\n",
      "2022-04-14 11:47:12,232 INFO - trainers.al_trainer - rho 1.000E+04, alpha 1.965E+01\n",
      "2022-04-14 11:47:14,923 INFO - trainers.al_trainer - rho 1.000E+05, alpha 1.965E+01\n",
      "2022-04-14 11:47:17,607 INFO - trainers.al_trainer - [Iter 4] loss 1.126E+00, mse 4.432E+03, acyclic 4.301E-04, shd 28, tpr 0.045, fdr 0.889, pred_size 9\n",
      "2022-04-14 11:47:17,608 INFO - trainers.al_trainer - rho 1.000E+05, alpha 6.266E+01\n",
      "2022-04-14 11:47:20,311 INFO - trainers.al_trainer - rho 1.000E+06, alpha 6.266E+01\n",
      "2022-04-14 11:47:22,993 INFO - trainers.al_trainer - rho 1.000E+07, alpha 6.266E+01\n",
      "2022-04-14 11:47:25,687 INFO - trainers.al_trainer - [Iter 5] loss 1.179E+00, mse 4.657E+03, acyclic 4.768E-05, shd 31, tpr 0.045, fdr 0.917, pred_size 12\n",
      "2022-04-14 11:47:25,688 INFO - trainers.al_trainer - rho 1.000E+07, alpha 5.395E+02\n",
      "2022-04-14 11:47:28,388 INFO - trainers.al_trainer - rho 1.000E+08, alpha 5.395E+02\n",
      "2022-04-14 11:47:31,078 INFO - trainers.al_trainer - rho 1.000E+09, alpha 5.395E+02\n",
      "2022-04-14 11:47:33,774 INFO - trainers.al_trainer - [Iter 6] loss 1.237E+00, mse 4.893E+03, acyclic 4.768E-06, shd 28, tpr 0.091, fdr 0.818, pred_size 11\n",
      "2022-04-14 11:47:33,775 INFO - trainers.al_trainer - rho 1.000E+09, alpha 5.308E+03\n",
      "2022-04-14 11:47:36,475 INFO - trainers.al_trainer - rho 1.000E+10, alpha 5.308E+03\n",
      "2022-04-14 11:47:39,172 INFO - trainers.al_trainer - rho 1.000E+11, alpha 5.308E+03\n",
      "2022-04-14 11:47:41,871 INFO - trainers.al_trainer - [Iter 7] loss 1.270E+00, mse 5.080E+03, acyclic 0.000E+00, shd 27, tpr 0.091, fdr 0.800, pred_size 10\n",
      "2022-04-14 11:47:41,872 INFO - trainers.al_trainer - Early stopping at 7-th iteration\n",
      "2022-04-14 11:47:41,913 INFO - trainers.al_trainer - Model saved to output/lucas0_train/2022-04-15_00-46-51-717/model/\n",
      "2022-04-14 11:47:41,915 INFO - __main__ - Finished training model\n"
     ]
    }
   ],
   "source": [
    "model = NoTears(args.n, args.d, args.seed, args.l1_lambda, args.use_float64)\n",
    "model.print_summary(print_func=model.logger.info)\n",
    "\n",
    "trainer = ALTrainer(args.init_rho, args.rho_max, args.h_factor, args.rho_multiply,\n",
    "                    args.init_iter, args.learning_rate, args.h_tol)\n",
    "W_est = trainer.train(model, dataset.X, dataset.W, args.graph_thres,\n",
    "                      args.max_iter, args.iter_step, output_dir)\n",
    "_logger.info('Finished training model')"
   ]
  },
  {
   "cell_type": "code",
   "execution_count": 11,
   "metadata": {},
   "outputs": [],
   "source": [
    "# Save raw estimated graph, ground truth and observational data after training\n",
    "# np.save('{}/true_graph.npy'.format(output_dir), dataset.W)\n",
    "np.save('{}/X.npy'.format(output_dir), dataset.X)\n",
    "np.save('{}/final_raw_estimated_graph.npy'.format(output_dir), W_est)"
   ]
  },
  {
   "cell_type": "code",
   "execution_count": 12,
   "metadata": {},
   "outputs": [
    {
     "data": {
      "text/plain": [
       "array([[ 0.00000000e+00,  7.46575415e-01,  1.22229524e-01,\n",
       "         4.47006598e-02,  1.02132559e-04,  1.99499736e-05,\n",
       "         1.01075256e-02,  3.41052037e-05,  1.85843266e-04,\n",
       "         3.77335809e-02,  2.26465985e-03,  9.74537852e-06],\n",
       "       [ 7.43510464e-06,  0.00000000e+00,  4.62141275e-01,\n",
       "         2.44360596e-01,  3.10953183e-04,  3.08829221e-05,\n",
       "         8.43642876e-02,  1.64985599e-04,  9.95487906e-04,\n",
       "         7.70850182e-02,  1.53498268e-02,  3.08626732e-05],\n",
       "       [ 4.09245258e-05,  4.40737904e-06,  0.00000000e+00,\n",
       "         7.25429272e-05,  1.35498980e-04,  1.95520232e-04,\n",
       "         2.59669155e-01,  1.59044785e-03,  1.09383333e-02,\n",
       "         2.35683266e-02,  1.53037056e-01,  2.17875830e-04],\n",
       "       [ 7.96181193e-05,  1.04111532e-05,  9.87604335e-02,\n",
       "         0.00000000e+00,  5.65142545e-05,  4.98745590e-04,\n",
       "         2.02891201e-01,  3.86739662e-03,  2.52504926e-02,\n",
       "         4.78551164e-03,  2.15625882e-01,  4.08800872e-04],\n",
       "       [-2.99472157e-02,  4.63585593e-02,  1.05974346e-01,\n",
       "         1.20868899e-01,  0.00000000e+00,  2.68764377e-01,\n",
       "         1.27941623e-01,  1.76172376e-01,  1.35159209e-01,\n",
       "        -2.72849314e-02,  3.93628269e-01,  2.86143303e-01],\n",
       "       [ 1.29998639e-01,  8.31080526e-02,  1.48049425e-02,\n",
       "         8.25725403e-03,  2.28759272e-05,  0.00000000e+00,\n",
       "         2.23542796e-03,  1.60784730e-05,  4.46372214e-05,\n",
       "         3.58840637e-02,  3.86751548e-04,  1.50012478e-01],\n",
       "       [ 3.31718533e-04,  6.33977761e-05,  1.31444904e-05,\n",
       "        -7.34683825e-04,  6.54356190e-05,  3.48954019e-03,\n",
       "         0.00000000e+00,  2.82261912e-02,  1.33332074e-01,\n",
       "         2.40263194e-02,  3.72399479e-01,  2.81959493e-03],\n",
       "       [ 8.69847164e-02,  1.12952385e-02,  1.36882346e-03,\n",
       "         5.69009047e-04,  5.94357152e-05,  3.31875712e-01,\n",
       "         1.93654894e-04,  0.00000000e+00,  8.85627560e-06,\n",
       "         3.94448936e-02,  4.49667168e-05,  4.27208811e-01],\n",
       "       [ 1.13222003e-02,  1.41477387e-03,  2.09956299e-04,\n",
       "         9.18578007e-05,  4.38150855e-05, -3.97803634e-03,\n",
       "         4.06495565e-05,  6.30569577e-01,  0.00000000e+00,\n",
       "         2.86593530e-02,  1.24830703e-05,  1.57211229e-01],\n",
       "       [ 3.75020056e-04,  1.23027799e-04,  2.48259486e-04,\n",
       "         1.25773018e-04,  5.92784309e-05, -1.38739721e-04,\n",
       "         7.18677838e-05,  1.32248359e-04,  3.12387972e-04,\n",
       "         0.00000000e+00,  1.89330131e-05,  2.68272834e-05],\n",
       "       [ 1.41661428e-03,  2.13461986e-04,  4.54062210e-05,\n",
       "         2.18205514e-05,  1.45288568e-05,  1.30377952e-02,\n",
       "         1.23582140e-05,  1.14454590e-01,  6.56330228e-01,\n",
       "         4.06302750e-01,  0.00000000e+00,  2.48388425e-02],\n",
       "       [ 6.56206012e-01,  9.65011790e-02,  1.27575779e-02,\n",
       "         4.87609394e-03,  3.02500048e-05,  1.40780357e-05,\n",
       "         1.49833353e-03,  6.78132392e-06,  3.74007577e-05,\n",
       "        -1.91390976e-01,  3.89936409e-04,  0.00000000e+00]], dtype=float32)"
      ]
     },
     "execution_count": 12,
     "metadata": {},
     "output_type": "execute_result"
    }
   ],
   "source": [
    "W_est"
   ]
  },
  {
   "cell_type": "code",
   "execution_count": 23,
   "metadata": {
    "scrolled": false
   },
   "outputs": [
    {
     "data": {
      "image/png": "[encoded data removed]",
      "text/plain": [
       "<Figure size 576x216 with 4 Axes>"
      ]
     },
     "metadata": {
      "needs_background": "light"
     },
     "output_type": "display_data"
    },
    {
     "name": "stderr",
     "output_type": "stream",
     "text": [
      "2022-04-14 12:02:11,803 INFO - __main__ - Results: {'fdr': 0.8333333333333334, 'tpr': 1.0, 'fpr': 2.5, 'shd': 66, 'pred_size': 132}\n"
     ]
    }
   ],
   "source": [
    "# Plot raw estimated graph\n",
    "plot_estimated_graph(W_est, dataset.W,\n",
    "                     save_name='{}/raw_estimated_graph.png'.format(output_dir))\n",
    "\n",
    "results = count_accuracy(dataset.W, W_est)\n",
    "_logger.info('Results: {}'.format(results))\n",
    "\n",
    "# _logger.info('Thresholding.')\n",
    "graph_thres = 0.3\n",
    "# # Plot thresholded estimated graph\n",
    "# args.graph_thres = 0.3\n",
    "# copy_W_est = np.copy(W_est)\n",
    "# copy_W_est[np.abs(copy_W_est) < args.graph_thres] = 0   # Thresholding\n",
    "# plot_estimated_graph(copy_W_est, dataset.W,\n",
    "#                      save_name='{}/thresholded_estimated_graph.png'.format(output_dir))\n",
    "# results_thresholded = count_accuracy(dataset.W, copy_W_est)\n",
    "# _logger.info('Results after thresholding by {}: {}'.format(args.graph_thres, results_thresholded))"
   ]
  },
  {
   "cell_type": "code",
   "execution_count": 14,
   "metadata": {
    "scrolled": true
   },
   "outputs": [
    {
     "name": "stderr",
     "output_type": "stream",
     "text": [
      "2022-04-14 11:47:42,247 INFO - __main__ - The time used to execute this is given below\n",
      "2022-04-14 11:47:42,248 INFO - __main__ - 52.07948422431946\n"
     ]
    }
   ],
   "source": [
    "end = time.time()\n",
    "\n",
    "_logger.info('The time used to execute this is given below')\n",
    "_logger.info(end - start)"
   ]
  },
  {
   "cell_type": "code",
   "execution_count": 15,
   "metadata": {},
   "outputs": [],
   "source": [
    "# c = np.sum(copy_W_est, axis=1)\n",
    "# c.shape"
   ]
  },
  {
   "cell_type": "code",
   "execution_count": 16,
   "metadata": {},
   "outputs": [],
   "source": [
    "# copy_W_est"
   ]
  },
  {
   "cell_type": "code",
   "execution_count": 17,
   "metadata": {},
   "outputs": [],
   "source": [
    "#result_matrix = pd.read_csv(\"W_true.csv\", header=None)"
   ]
  },
  {
   "cell_type": "code",
   "execution_count": 24,
   "metadata": {
    "scrolled": false
   },
   "outputs": [
    {
     "data": {
      "image/png": "[encoded data removed]",
      "text/plain": [
       "<IPython.core.display.Image object>"
      ]
     },
     "execution_count": 24,
     "metadata": {},
     "output_type": "execute_result"
    }
   ],
   "source": [
    "from lingam.utils import make_dot\n",
    "\n",
    "dot = make_dot(W_est, labels=headers, lower_limit=graph_thres)\n",
    "\n",
    "# Save png\n",
    "dot.format = 'png'\n",
    "dag_path = dot.render('{}/dag'.format(output_dir))\n",
    "\n",
    "#dot.render('{}/dag'.format(output_dir))\n",
    "\n",
    "from IPython.display import Image\n",
    "Image(filename=dag_path) "
   ]
  },
  {
   "cell_type": "code",
   "execution_count": null,
   "metadata": {},
   "outputs": [],
   "source": []
  },
  {
   "cell_type": "code",
   "execution_count": null,
   "metadata": {},
   "outputs": [],
   "source": []
  }
 ],
 "metadata": {
  "kernelspec": {
   "display_name": "Python 3",
   "language": "python",
   "name": "python3"
  },
  "language_info": {
   "codemirror_mode": {
    "name": "ipython",
    "version": 3
   },
   "file_extension": ".py",
   "mimetype": "text/x-python",
   "name": "python",
   "nbconvert_exporter": "python",
   "pygments_lexer": "ipython3",
   "version": "3.6.9"
  }
 },
 "nbformat": 4,
 "nbformat_minor": 2
}
