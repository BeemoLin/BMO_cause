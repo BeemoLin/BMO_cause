{
 "cells": [
  {
   "cell_type": "code",
   "execution_count": 1,
   "metadata": {},
   "outputs": [],
   "source": [
    "import time\n",
    "\n",
    "start = time.time()"
   ]
  },
  {
   "cell_type": "code",
   "execution_count": 2,
   "metadata": {
    "scrolled": true
   },
   "outputs": [
    {
     "name": "stdout",
     "output_type": "stream",
     "text": [
      "Requirement already satisfied: tqdm in /usr/local/lib/python3.6/dist-packages (4.64.0)\n",
      "Requirement already satisfied: importlib-resources; python_version < \"3.7\" in /usr/local/lib/python3.6/dist-packages (from tqdm) (5.4.0)\n",
      "Requirement already satisfied: zipp>=3.1.0; python_version < \"3.10\" in /usr/local/lib/python3.6/dist-packages (from importlib-resources; python_version < \"3.7\"->tqdm) (3.5.0)\n",
      "\u001b[33mWARNING: You are using pip version 20.2.4; however, version 21.3.1 is available.\n",
      "You should consider upgrading via the '/usr/bin/python3 -m pip install --upgrade pip' command.\u001b[0m\n",
      "Requirement already satisfied: gcastle==1.0.3rc3 in /usr/local/lib/python3.6/dist-packages (1.0.3rc3)\n",
      "\u001b[33mWARNING: You are using pip version 20.2.4; however, version 21.3.1 is available.\n",
      "You should consider upgrading via the '/usr/bin/python3 -m pip install --upgrade pip' command.\u001b[0m\n"
     ]
    }
   ],
   "source": [
    "# !pip install torch\n",
    "!pip install tqdm\n",
    "!pip install --no-deps gcastle==1.0.3rc3\n",
    "# !pip install pytz\n",
    "# !pip install networkx\n",
    "# !pip install pyyaml\n",
    "# !pip install lingam\n",
    "# !apt-get update && apt-get install -y graphviz "
   ]
  },
  {
   "cell_type": "code",
   "execution_count": 3,
   "metadata": {},
   "outputs": [],
   "source": [
    "import os\n",
    "import logging\n",
    "from pytz import timezone\n",
    "from datetime import datetime\n",
    "import numpy as np\n",
    "\n",
    "from data_loader import SyntheticDataset\n",
    "#from models import NoTears\n",
    "from trainers import ALTrainer\n",
    "from helpers.config_utils import save_yaml_config, get_train_args\n",
    "from helpers.log_helper import LogHelper\n",
    "from helpers.tf_utils import set_seed\n",
    "from helpers.dir_utils import create_dir\n",
    "from helpers.analyze_utils import count_accuracy, plot_estimated_graph\n",
    "\n",
    "# For logging of tensorflow messages\n",
    "os.environ['TF_CPP_MIN_LOG_LEVEL'] = '2'"
   ]
  },
  {
   "cell_type": "code",
   "execution_count": 4,
   "metadata": {
    "scrolled": true
   },
   "outputs": [
    {
     "data": {
      "text/plain": [
       "(500, 5)"
      ]
     },
     "execution_count": 4,
     "metadata": {},
     "output_type": "execute_result"
    }
   ],
   "source": [
    "import pandas as pd\n",
    "\n",
    "\n",
    "exp_name = 'n_500_d_5_e_3_ER'\n",
    "\n",
    "# exp_name = 'n_500_d_20_e_12_ER'\n",
    "# exp_name = 'n_500_d_20_e_12_SF'\n",
    "# exp_name = 'n_500_d_100_e_60_ER'\n",
    "# exp_name = 'n_500_d_100_e_60_SF'\n",
    "# exp_name = 'n_500_d_300_e_180_ER'\n",
    "# exp_name = 'n_500_d_300_e_180_SF'\n",
    "\n",
    "# exp_name = 'n_2000_d_20_e_12_ER'\n",
    "# exp_name = 'n_2000_d_20_e_12_SF'\n",
    "# exp_name = 'n_2000_d_100_e_60_ER'\n",
    "# exp_name = 'n_2000_d_100_e_60_SF'\n",
    "# exp_name = 'n_2000_d_300_e_180_ER'\n",
    "# exp_name = 'n_2000_d_300_e_180_SF'\n",
    "\n",
    "dataset_path = '../../experiment/datasets/{}/X.csv'.format(exp_name)\n",
    "true_path = '../../experiment/datasets/{}/W_true.csv'.format(exp_name)\n",
    "\n",
    "# headers = pd.read_csv(dataset_path, nrows=0).columns.tolist()\n",
    "# headers = [c for c in headers if c != 'Samples']\n",
    "# df = pd.read_csv(dataset_path, usecols=headers)\n",
    "\n",
    "df = pd.read_csv(dataset_path, header=None)\n",
    "df = df.fillna(-1).reset_index(drop=True)\n",
    "df = (df-df.mean())/df.std()\n",
    "X = df.to_numpy()\n",
    "\n",
    "headers = []\n",
    "for i in range(X.shape[1]):\n",
    "    headers.append('x{}'.format(i))\n",
    "\n",
    "X.shape"
   ]
  },
  {
   "cell_type": "code",
   "execution_count": 5,
   "metadata": {},
   "outputs": [
    {
     "name": "stderr",
     "output_type": "stream",
     "text": [
      "2022-05-14 03:45:42,896 INFO - helpers.log_helper - Finished configuring logger.\n"
     ]
    }
   ],
   "source": [
    "# Setup for logging\n",
    "output_dir = 'output/nt/{}'.format(exp_name)\n",
    "create_dir(output_dir)\n",
    "LogHelper.setup(log_path='{}/training.log'.format(output_dir), level_str='INFO')\n",
    "_logger = logging.getLogger(__name__)"
   ]
  },
  {
   "cell_type": "code",
   "execution_count": 6,
   "metadata": {
    "scrolled": true
   },
   "outputs": [
    {
     "name": "stderr",
     "output_type": "stream",
     "text": [
      "2022-05-14 03:45:43,190 INFO - root - You can use `os.environ['CASTLE_BACKEND'] = backend` to set the backend(`pytorch` or `mindspore`).\n",
      "2022-05-14 03:45:43,602 INFO - root - You are using ``pytorch`` as the backend.\n",
      "2022-05-14 03:45:43,607 INFO - root - GPU is available.\n",
      "2022-05-14 03:45:45,723 INFO - root - [start]: n=500, d=5, iter_=100, h_=1e-08, rho_=1e+16\n",
      "2022-05-14 03:45:47,930 INFO - root - FINISHED\n"
     ]
    },
    {
     "data": {
      "text/plain": [
       "array([[0.000e+00, 0.000e+00, 7.662e-05, 0.000e+00, 0.000e+00],\n",
       "       [0.000e+00, 0.000e+00, 1.217e+00, 1.004e+00, 0.000e+00],\n",
       "       [1.071e+00, 0.000e+00, 0.000e+00, 0.000e+00, 0.000e+00],\n",
       "       [0.000e+00, 0.000e+00, 0.000e+00, 0.000e+00, 0.000e+00],\n",
       "       [0.000e+00, 0.000e+00, 0.000e+00, 0.000e+00, 0.000e+00]])"
      ]
     },
     "execution_count": 6,
     "metadata": {},
     "output_type": "execute_result"
    }
   ],
   "source": [
    "from castle.algorithms import NotearsNonlinear\n",
    "\n",
    "nt = NotearsNonlinear(device_type='gpu', model_type='mlp', w_threshold=0.0)\n",
    "nt.learn(X)\n",
    "\n",
    "W_est = np.array(nt.weight_causal_matrix)\n",
    "W_est"
   ]
  },
  {
   "cell_type": "code",
   "execution_count": 98,
   "metadata": {},
   "outputs": [
    {
     "data": {
      "text/plain": [
       "['_causal_matrix',\n",
       " 'lambda1',\n",
       " 'lambda2',\n",
       " 'max_iter',\n",
       " 'h_tol',\n",
       " 'rho_max',\n",
       " 'w_threshold',\n",
       " 'hidden_layer',\n",
       " 'hidden_units',\n",
       " 'bias',\n",
       " 'model_type',\n",
       " 'device_type',\n",
       " 'device_ids',\n",
       " 'rho',\n",
       " 'alpha',\n",
       " 'h',\n",
       " 'device',\n",
       " 'weight_causal_matrix',\n",
       " '__module__',\n",
       " '__doc__',\n",
       " '__init__',\n",
       " 'learn',\n",
       " 'dual_ascent_step',\n",
       " 'notears_nonlinear',\n",
       " 'get_model',\n",
       " 'causal_matrix',\n",
       " '__dict__',\n",
       " '__weakref__',\n",
       " '__repr__',\n",
       " '__hash__',\n",
       " '__str__',\n",
       " '__getattribute__',\n",
       " '__setattr__',\n",
       " '__delattr__',\n",
       " '__lt__',\n",
       " '__le__',\n",
       " '__eq__',\n",
       " '__ne__',\n",
       " '__gt__',\n",
       " '__ge__',\n",
       " '__new__',\n",
       " '__reduce_ex__',\n",
       " '__reduce__',\n",
       " '__subclasshook__',\n",
       " '__init_subclass__',\n",
       " '__format__',\n",
       " '__sizeof__',\n",
       " '__dir__',\n",
       " '__class__']"
      ]
     },
     "execution_count": 98,
     "metadata": {},
     "output_type": "execute_result"
    }
   ],
   "source": [
    "nt.__dir__()"
   ]
  },
  {
   "cell_type": "code",
   "execution_count": 7,
   "metadata": {
    "scrolled": true
   },
   "outputs": [],
   "source": [
    "# from castle.algorithms import GraNDAG\n",
    "\n",
    "# # Instantiation algorithm\n",
    "# gnd = GraNDAG(input_dim=X.shape[1], iterations=100, use_pns=False)\n",
    "# gnd.learn(data=X)\n",
    "\n",
    "# W_est = np.array(nt.weight_causal_matrix)\n",
    "# W_est"
   ]
  },
  {
   "cell_type": "code",
   "execution_count": 8,
   "metadata": {},
   "outputs": [
    {
     "data": {
      "text/plain": [
       "array([[ 0.   ,  0.   ,  0.   ,  0.   ,  0.   ],\n",
       "       [ 0.   ,  0.   ,  0.723,  0.   ,  0.   ],\n",
       "       [-0.554,  0.   ,  0.   ,  0.   ,  0.   ],\n",
       "       [ 0.   ,  0.471,  0.   ,  0.   ,  0.   ],\n",
       "       [ 0.   ,  0.   ,  0.   ,  0.   ,  0.   ]])"
      ]
     },
     "execution_count": 8,
     "metadata": {},
     "output_type": "execute_result"
    }
   ],
   "source": [
    "w_true = pd.read_csv(true_path, header=None)\n",
    "w_true = w_true.to_numpy()\n",
    "w_true"
   ]
  },
  {
   "cell_type": "code",
   "execution_count": 9,
   "metadata": {},
   "outputs": [],
   "source": [
    "# Save raw estimated graph, ground truth and observational data after training\n",
    "np.save('{}/true_graph.npy'.format(output_dir), w_true)\n",
    "np.save('{}/X.npy'.format(output_dir), X)\n",
    "np.save('{}/final_raw_estimated_graph.npy'.format(output_dir), W_est)"
   ]
  },
  {
   "cell_type": "code",
   "execution_count": 10,
   "metadata": {
    "scrolled": false
   },
   "outputs": [
    {
     "data": {
      "image/png": "[encoded data removed]",
      "text/plain": [
       "<Figure size 576x216 with 4 Axes>"
      ]
     },
     "metadata": {
      "needs_background": "light"
     },
     "output_type": "display_data"
    },
    {
     "name": "stderr",
     "output_type": "stream",
     "text": [
      "2022-05-14 03:45:48,276 INFO - __main__ - Thresholding.\n"
     ]
    },
    {
     "data": {
      "image/png": "[encoded data removed]",
      "text/plain": [
       "<Figure size 576x216 with 4 Axes>"
      ]
     },
     "metadata": {
      "needs_background": "light"
     },
     "output_type": "display_data"
    },
    {
     "name": "stderr",
     "output_type": "stream",
     "text": [
      "2022-05-14 03:45:48,589 INFO - __main__ - Results after thresholding by 0.0: {'fdr': 0.5, 'tpr': 0.6666666666666666, 'fpr': 0.2857142857142857, 'shd': 2, 'pred_size': 4}\n"
     ]
    }
   ],
   "source": [
    "# Plot raw estimated graph\n",
    "plot_estimated_graph(W_est, w_true,\n",
    "                     save_name='{}/raw_estimated_graph.png'.format(output_dir))\n",
    "\n",
    "_logger.info('Thresholding.')\n",
    "# Plot thresholded estimated graph\n",
    "graph_thres = 0.0\n",
    "copy_W_est = np.copy(W_est)\n",
    "copy_W_est[np.abs(copy_W_est) < graph_thres] = 0   # Thresholding\n",
    "plot_estimated_graph(copy_W_est, w_true,\n",
    "                     save_name='{}/thresholded_estimated_graph.png'.format(output_dir))\n",
    "results_thresholded = count_accuracy(w_true, copy_W_est)\n",
    "_logger.info('Results after thresholding by {}: {}'.format(graph_thres, results_thresholded))"
   ]
  },
  {
   "cell_type": "code",
   "execution_count": 11,
   "metadata": {},
   "outputs": [
    {
     "name": "stderr",
     "output_type": "stream",
     "text": [
      "2022-05-14 03:45:48,593 INFO - __main__ - The time used to execute this is given below\n",
      "2022-05-14 03:45:48,593 INFO - __main__ - 9.081127166748047\n"
     ]
    }
   ],
   "source": [
    "end = time.time()\n",
    "\n",
    "_logger.info('The time used to execute this is given below')\n",
    "_logger.info(end - start)"
   ]
  },
  {
   "cell_type": "code",
   "execution_count": 12,
   "metadata": {},
   "outputs": [
    {
     "data": {
      "text/plain": [
       "(5,)"
      ]
     },
     "execution_count": 12,
     "metadata": {},
     "output_type": "execute_result"
    }
   ],
   "source": [
    "c = np.sum(copy_W_est, axis=1)\n",
    "c.shape"
   ]
  },
  {
   "cell_type": "code",
   "execution_count": 13,
   "metadata": {},
   "outputs": [
    {
     "data": {
      "text/plain": [
       "array([[0.000e+00, 0.000e+00, 7.662e-05, 0.000e+00, 0.000e+00],\n",
       "       [0.000e+00, 0.000e+00, 1.217e+00, 1.004e+00, 0.000e+00],\n",
       "       [1.071e+00, 0.000e+00, 0.000e+00, 0.000e+00, 0.000e+00],\n",
       "       [0.000e+00, 0.000e+00, 0.000e+00, 0.000e+00, 0.000e+00],\n",
       "       [0.000e+00, 0.000e+00, 0.000e+00, 0.000e+00, 0.000e+00]])"
      ]
     },
     "execution_count": 13,
     "metadata": {},
     "output_type": "execute_result"
    }
   ],
   "source": [
    "copy_W_est"
   ]
  },
  {
   "cell_type": "code",
   "execution_count": 70,
   "metadata": {},
   "outputs": [],
   "source": [
    "headers = ['Sell', 'Promotions', 'OpenHours']"
   ]
  },
  {
   "cell_type": "code",
   "execution_count": 95,
   "metadata": {},
   "outputs": [
    {
     "data": {
      "text/plain": [
       "array([[ 0, 20,  2],\n",
       "       [ 0,  0,  1],\n",
       "       [ 0,  0,  0]])"
      ]
     },
     "execution_count": 95,
     "metadata": {},
     "output_type": "execute_result"
    }
   ],
   "source": [
    "est = np.array([(0, 20, 2), (0, 0, 1), (0, 0, 0)])\n",
    "est"
   ]
  },
  {
   "cell_type": "code",
   "execution_count": 96,
   "metadata": {
    "scrolled": true
   },
   "outputs": [
    {
     "data": {
      "image/png": "[encoded data removed]",
      "text/plain": [
       "<IPython.core.display.Image object>"
      ]
     },
     "execution_count": 96,
     "metadata": {},
     "output_type": "execute_result"
    }
   ],
   "source": [
    "from lingam.utils import make_dot\n",
    "\n",
    "dot = make_dot(est, labels=headers, lower_limit=0.5)\n",
    "\n",
    "# Save png\n",
    "dot.format = 'png'\n",
    "dag_path = dot.render('{}/dag'.format(output_dir))\n",
    "\n",
    "#dot.render('{}/dag'.format(output_dir))\n",
    "\n",
    "from IPython.display import Image\n",
    "Image(filename=dag_path) "
   ]
  },
  {
   "cell_type": "code",
   "execution_count": 16,
   "metadata": {},
   "outputs": [
    {
     "name": "stderr",
     "output_type": "stream",
     "text": [
      "2022-05-14 03:45:48,750 INFO - helpers.log_helper - Finished configuring logger.\n",
      "2022-05-14 03:45:48,750 INFO - helpers.log_helper - Finished configuring logger.\n",
      "2022-05-14 03:45:48,766 INFO - __main__ - --- n_500_d_100_e_60_ER ---\n",
      "2022-05-14 03:45:48,766 INFO - __main__ - --- n_500_d_100_e_60_ER ---\n",
      "2022-05-14 03:45:48,767 INFO - root - GPU is available.\n",
      "2022-05-14 03:45:48,767 INFO - root - GPU is available.\n",
      "2022-05-14 03:45:48,792 INFO - root - [start]: n=500, d=100, iter_=100, h_=1e-08, rho_=1e+16\n",
      "2022-05-14 03:45:48,792 INFO - root - [start]: n=500, d=100, iter_=100, h_=1e-08, rho_=1e+16\n"
     ]
    },
    {
     "name": "stdout",
     "output_type": "stream",
     "text": [
      "n_500_d_100_e_60_ER\n"
     ]
    },
    {
     "name": "stderr",
     "output_type": "stream",
     "text": [
      "2022-05-14 04:01:38,818 INFO - root - FINISHED\n",
      "2022-05-14 04:01:38,818 INFO - root - FINISHED\n"
     ]
    },
    {
     "data": {
      "image/png": "[encoded data removed]",
      "text/plain": [
       "<Figure size 576x216 with 4 Axes>"
      ]
     },
     "metadata": {
      "needs_background": "light"
     },
     "output_type": "display_data"
    },
    {
     "name": "stderr",
     "output_type": "stream",
     "text": [
      "2022-05-14 04:01:39,168 INFO - __main__ - Thresholding.\n",
      "2022-05-14 04:01:39,168 INFO - __main__ - Thresholding.\n"
     ]
    },
    {
     "data": {
      "image/png": "[encoded data removed]",
      "text/plain": [
       "<Figure size 576x216 with 4 Axes>"
      ]
     },
     "metadata": {
      "needs_background": "light"
     },
     "output_type": "display_data"
    },
    {
     "name": "stderr",
     "output_type": "stream",
     "text": [
      "2022-05-14 04:01:39,490 INFO - __main__ - Results after thresholding by 0.3: {'fdr': 0.1724137931034483, 'tpr': 0.8, 'fpr': 0.002044989775051125, 'shd': 18, 'pred_size': 58}\n",
      "2022-05-14 04:01:39,490 INFO - __main__ - Results after thresholding by 0.3: {'fdr': 0.1724137931034483, 'tpr': 0.8, 'fpr': 0.002044989775051125, 'shd': 18, 'pred_size': 58}\n",
      "2022-05-14 04:01:39,491 INFO - __main__ - The time used to execute this is given below\n",
      "2022-05-14 04:01:39,491 INFO - __main__ - The time used to execute this is given below\n",
      "2022-05-14 04:01:39,491 INFO - __main__ - 950.7394795417786\n",
      "2022-05-14 04:01:39,491 INFO - __main__ - 950.7394795417786\n"
     ]
    }
   ],
   "source": [
    "#!/usr/bin/env python\n",
    "# coding: utf-8\n",
    "\n",
    "\n",
    "\n",
    "# !pip install torch\n",
    "# !pip install --no-deps gcastle==1.0.3rc3\n",
    "# !pip install pytz\n",
    "# !pip install networkx\n",
    "# !pip install pyyaml\n",
    "# !pip install lingam\n",
    "# !apt-get update && apt-get install -y graphviz \n",
    "\n",
    "\n",
    "import os\n",
    "import time\n",
    "from pytz import timezone\n",
    "from datetime import datetime\n",
    "import numpy as np\n",
    "\n",
    "import logging\n",
    "from helpers.config_utils import save_yaml_config, get_train_args\n",
    "from helpers.log_helper import LogHelper\n",
    "from helpers.tf_utils import set_seed\n",
    "from helpers.dir_utils import create_dir\n",
    "from helpers.analyze_utils import count_accuracy, plot_estimated_graph\n",
    "\n",
    "import pandas as pd\n",
    "\n",
    "LogHelper.setup(log_path='output/nt/training.log', level_str='INFO')\n",
    "_logger = logging.getLogger(__name__)\n",
    "\n",
    "def gogo(exp_name='n_500_d_5_e_3_ER'):\n",
    "    \n",
    "\n",
    "    \n",
    "    start = time.time()\n",
    "\n",
    "    # For logging of tensorflow messages\n",
    "    os.environ['TF_CPP_MIN_LOG_LEVEL'] = '2'\n",
    "    \n",
    "    dataset_path = '../../experiment/datasets/{}/X.csv'.format(exp_name)\n",
    "    true_path = '../../experiment/datasets/{}/W_true.csv'.format(exp_name)\n",
    "\n",
    "    # headers = pd.read_csv(dataset_path, nrows=0).columns.tolist()\n",
    "    # headers = [c for c in headers if c != 'Samples']\n",
    "    # df = pd.read_csv(dataset_path, usecols=headers)\n",
    "\n",
    "    df = pd.read_csv(dataset_path, header=None)\n",
    "    X = df.to_numpy()\n",
    "\n",
    "    headers = []\n",
    "    for i in range(X.shape[1]):\n",
    "        headers.append('x{}'.format(i))\n",
    "\n",
    "    X.shape\n",
    "\n",
    "\n",
    "    # In[5]:\n",
    "\n",
    "\n",
    "    # Setup for logging\n",
    "    output_dir = 'output/nt/{}'.format(exp_name)\n",
    "    create_dir(output_dir)\n",
    "\n",
    "    _logger.info('--- {} ---'.format(exp_name))\n",
    "\n",
    "    # In[6]:\n",
    "\n",
    "\n",
    "    from castle.algorithms import NotearsNonlinear\n",
    "\n",
    "    nt = NotearsNonlinear(device_type='gpu', model_type='mlp', w_threshold=0.0)\n",
    "    nt.learn(X)\n",
    "\n",
    "    W_est = np.array(nt.weight_causal_matrix)\n",
    "    W_est\n",
    "\n",
    "\n",
    "    w_true = pd.read_csv(true_path, header=None)\n",
    "    w_true = w_true.to_numpy()\n",
    "    w_true\n",
    "\n",
    "\n",
    "    # In[9]:\n",
    "\n",
    "\n",
    "    # Save raw estimated graph, ground truth and observational data after training\n",
    "    np.save('{}/true_graph.npy'.format(output_dir), w_true)\n",
    "    np.save('{}/X.npy'.format(output_dir), X)\n",
    "    np.save('{}/final_raw_estimated_graph.npy'.format(output_dir), W_est)\n",
    "\n",
    "\n",
    "    # In[10]:\n",
    "\n",
    "\n",
    "    # Plot raw estimated graph\n",
    "    plot_estimated_graph(W_est, w_true,\n",
    "                         save_name='{}/raw_estimated_graph.png'.format(output_dir))\n",
    "\n",
    "    _logger.info('Thresholding.')\n",
    "    # Plot thresholded estimated graph\n",
    "    graph_thres = 0.3\n",
    "    copy_W_est = np.copy(W_est)\n",
    "    copy_W_est[np.abs(copy_W_est) < graph_thres] = 0   # Thresholding\n",
    "    plot_estimated_graph(copy_W_est, w_true,\n",
    "                         save_name='{}/thresholded_estimated_graph.png'.format(output_dir))\n",
    "    results_thresholded = count_accuracy(w_true, copy_W_est)\n",
    "    _logger.info('Results after thresholding by {}: {}'.format(graph_thres, results_thresholded))\n",
    "\n",
    "\n",
    "    # In[11]:\n",
    "\n",
    "\n",
    "    end = time.time()\n",
    "\n",
    "    _logger.info('The time used to execute this is given below')\n",
    "    _logger.info(end - start)\n",
    "\n",
    "\n",
    "    # In[12]:\n",
    "\n",
    "\n",
    "    c = np.sum(copy_W_est, axis=1)\n",
    "    c.shape\n",
    "\n",
    "\n",
    "    # In[13]:\n",
    "\n",
    "\n",
    "    copy_W_est\n",
    "\n",
    "\n",
    "    # In[14]:\n",
    "\n",
    "\n",
    "    from lingam.utils import make_dot\n",
    "\n",
    "    dot = make_dot(copy_W_est, labels=headers, lower_limit=0.5)\n",
    "\n",
    "    # Save png\n",
    "    dot.format = 'png'\n",
    "    dag_path = dot.render('{}/dag'.format(output_dir))\n",
    "\n",
    "    #dot.render('{}/dag'.format(output_dir))\n",
    "\n",
    "    from IPython.display import Image\n",
    "    Image(filename=dag_path) \n",
    "\n",
    "\n",
    "exp_name = [\n",
    "# 'n_500_d_20_e_12_ER',\n",
    "# 'n_500_d_20_e_12_SF',\n",
    "'n_500_d_100_e_60_ER',\n",
    "# 'n_500_d_100_e_60_SF',\n",
    "# 'n_500_d_300_e_180_ER',\n",
    "# 'n_500_d_300_e_180_SF',\n",
    "\n",
    "# 'n_2000_d_20_e_12_ER',\n",
    "# 'n_2000_d_20_e_12_SF',\n",
    "# 'n_2000_d_100_e_60_ER',\n",
    "# 'n_2000_d_100_e_60_SF',\n",
    "# 'n_2000_d_300_e_180_ER',\n",
    "# 'n_2000_d_300_e_180_SF',\n",
    "]\n",
    "\n",
    "for e_name in exp_name:\n",
    "    print(e_name)\n",
    "    gogo(e_name)\n",
    "\n"
   ]
  }
 ],
 "metadata": {
  "kernelspec": {
   "display_name": "Python 3",
   "language": "python",
   "name": "python3"
  },
  "language_info": {
   "codemirror_mode": {
    "name": "ipython",
    "version": 3
   },
   "file_extension": ".py",
   "mimetype": "text/x-python",
   "name": "python",
   "nbconvert_exporter": "python",
   "pygments_lexer": "ipython3",
   "version": "3.6.9"
  }
 },
 "nbformat": 4,
 "nbformat_minor": 2
}
