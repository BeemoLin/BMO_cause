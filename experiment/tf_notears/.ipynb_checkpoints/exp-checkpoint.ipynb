{
 "cells": [
  {
   "cell_type": "code",
   "execution_count": null,
   "metadata": {},
   "outputs": [],
   "source": [
    "import time\n",
    "\n",
    "start = time.time()"
   ]
  },
  {
   "cell_type": "code",
   "execution_count": 1,
   "metadata": {},
   "outputs": [],
   "source": [
    "import os\n",
    "import logging\n",
    "from pytz import timezone\n",
    "from datetime import datetime\n",
    "import numpy as np\n",
    "\n",
    "from data_loader import SyntheticDataset\n",
    "from models import NoTears\n",
    "from trainers import ALTrainer\n",
    "from helpers.config_utils import save_yaml_config, get_train_args\n",
    "from helpers.log_helper import LogHelper\n",
    "from helpers.tf_utils import set_seed\n",
    "from helpers.dir_utils import create_dir\n",
    "from helpers.analyze_utils import count_accuracy, plot_estimated_graph\n",
    "\n",
    "# For logging of tensorflow messages\n",
    "os.environ['TF_CPP_MIN_LOG_LEVEL'] = '2'"
   ]
  },
  {
   "cell_type": "code",
   "execution_count": 2,
   "metadata": {
    "scrolled": true
   },
   "outputs": [
    {
     "data": {
      "text/plain": [
       "(500, 5)"
      ]
     },
     "execution_count": 2,
     "metadata": {},
     "output_type": "execute_result"
    }
   ],
   "source": [
    "import pandas as pd\n",
    "\n",
    "\n",
    "#exp_name = 'n_500_d_5_e_3_ER'\n",
    "\n",
    "exp_name = 'n_500_d_20_e_12_ER'\n",
    "# exp_name = 'n_500_d_20_e_12_SF'\n",
    "# exp_name = 'n_500_d_100_e_60_ER'\n",
    "# exp_name = 'n_500_d_100_e_60_SF'\n",
    "# exp_name = 'n_500_d_300_e_180_ER'\n",
    "# exp_name = 'n_500_d_300_e_180_SF'\n",
    "\n",
    "# exp_name = 'n_2000_d_20_e_12_ER'\n",
    "# exp_name = 'n_2000_d_20_e_12_SF'\n",
    "# exp_name = 'n_2000_d_100_e_60_ER'\n",
    "# exp_name = 'n_2000_d_100_e_60_SF'\n",
    "# exp_name = 'n_2000_d_300_e_180_ER'\n",
    "# exp_name = 'n_2000_d_300_e_180_SF'\n",
    "\n",
    "dataset_path = '../../experiment/datasets/{}/X.csv'.format(exp_name)\n",
    "true_path = '../../experiment/datasets/{}/W_true.csv'.format(exp_name)\n",
    "\n",
    "# headers = pd.read_csv(dataset_path, nrows=0).columns.tolist()\n",
    "# headers = [c for c in headers if c != 'Samples']\n",
    "# df = pd.read_csv(dataset_path, usecols=headers)\n",
    "\n",
    "df = pd.read_csv(dataset_path, header=None)\n",
    "df = df.fillna(-1).reset_index(drop=True)\n",
    "df = (df-df.mean())/df.std()\n",
    "X = df.to_numpy()\n",
    "\n",
    "headers = []\n",
    "for i in range(X.shape[1]):\n",
    "    headers.append('x{}'.format(i))\n",
    "\n",
    "X.shape"
   ]
  },
  {
   "cell_type": "code",
   "execution_count": 3,
   "metadata": {},
   "outputs": [
    {
     "data": {
      "text/plain": [
       "['x0', 'x1', 'x2', 'x3', 'x4']"
      ]
     },
     "execution_count": 3,
     "metadata": {},
     "output_type": "execute_result"
    }
   ],
   "source": [
    "headers"
   ]
  },
  {
   "cell_type": "code",
   "execution_count": 4,
   "metadata": {},
   "outputs": [],
   "source": [
    "w_true = pd.read_csv(true_path, header=None)"
   ]
  },
  {
   "cell_type": "code",
   "execution_count": 5,
   "metadata": {},
   "outputs": [
    {
     "data": {
      "text/html": [
       "<div>\n",
       "<style scoped>\n",
       "    .dataframe tbody tr th:only-of-type {\n",
       "        vertical-align: middle;\n",
       "    }\n",
       "\n",
       "    .dataframe tbody tr th {\n",
       "        vertical-align: top;\n",
       "    }\n",
       "\n",
       "    .dataframe thead th {\n",
       "        text-align: right;\n",
       "    }\n",
       "</style>\n",
       "<table border=\"1\" class=\"dataframe\">\n",
       "  <thead>\n",
       "    <tr style=\"text-align: right;\">\n",
       "      <th></th>\n",
       "      <th>0</th>\n",
       "      <th>1</th>\n",
       "      <th>2</th>\n",
       "      <th>3</th>\n",
       "      <th>4</th>\n",
       "    </tr>\n",
       "  </thead>\n",
       "  <tbody>\n",
       "    <tr>\n",
       "      <th>0</th>\n",
       "      <td>0.622333</td>\n",
       "      <td>-0.140068</td>\n",
       "      <td>-0.393678</td>\n",
       "      <td>0.443221</td>\n",
       "      <td>0.654470</td>\n",
       "    </tr>\n",
       "    <tr>\n",
       "      <th>1</th>\n",
       "      <td>-1.590810</td>\n",
       "      <td>0.740663</td>\n",
       "      <td>1.178807</td>\n",
       "      <td>0.906630</td>\n",
       "      <td>1.333624</td>\n",
       "    </tr>\n",
       "    <tr>\n",
       "      <th>2</th>\n",
       "      <td>0.486143</td>\n",
       "      <td>-0.769232</td>\n",
       "      <td>-0.238496</td>\n",
       "      <td>-1.980235</td>\n",
       "      <td>1.527204</td>\n",
       "    </tr>\n",
       "    <tr>\n",
       "      <th>3</th>\n",
       "      <td>-0.666699</td>\n",
       "      <td>-0.398547</td>\n",
       "      <td>-0.430301</td>\n",
       "      <td>1.038878</td>\n",
       "      <td>-0.639309</td>\n",
       "    </tr>\n",
       "    <tr>\n",
       "      <th>4</th>\n",
       "      <td>-0.880042</td>\n",
       "      <td>-0.069241</td>\n",
       "      <td>0.144870</td>\n",
       "      <td>-0.799493</td>\n",
       "      <td>0.681846</td>\n",
       "    </tr>\n",
       "    <tr>\n",
       "      <th>...</th>\n",
       "      <td>...</td>\n",
       "      <td>...</td>\n",
       "      <td>...</td>\n",
       "      <td>...</td>\n",
       "      <td>...</td>\n",
       "    </tr>\n",
       "    <tr>\n",
       "      <th>495</th>\n",
       "      <td>0.259195</td>\n",
       "      <td>0.046927</td>\n",
       "      <td>-0.457552</td>\n",
       "      <td>-0.391377</td>\n",
       "      <td>1.313623</td>\n",
       "    </tr>\n",
       "    <tr>\n",
       "      <th>496</th>\n",
       "      <td>-1.095370</td>\n",
       "      <td>1.286848</td>\n",
       "      <td>1.164835</td>\n",
       "      <td>1.568213</td>\n",
       "      <td>0.518352</td>\n",
       "    </tr>\n",
       "    <tr>\n",
       "      <th>497</th>\n",
       "      <td>0.775644</td>\n",
       "      <td>-0.398682</td>\n",
       "      <td>0.459322</td>\n",
       "      <td>-0.357137</td>\n",
       "      <td>0.803747</td>\n",
       "    </tr>\n",
       "    <tr>\n",
       "      <th>498</th>\n",
       "      <td>-0.606240</td>\n",
       "      <td>0.527462</td>\n",
       "      <td>-0.009984</td>\n",
       "      <td>0.588121</td>\n",
       "      <td>0.596842</td>\n",
       "    </tr>\n",
       "    <tr>\n",
       "      <th>499</th>\n",
       "      <td>1.824653</td>\n",
       "      <td>-0.967124</td>\n",
       "      <td>-1.281623</td>\n",
       "      <td>-1.148014</td>\n",
       "      <td>0.332582</td>\n",
       "    </tr>\n",
       "  </tbody>\n",
       "</table>\n",
       "<p>500 rows × 5 columns</p>\n",
       "</div>"
      ],
      "text/plain": [
       "            0         1         2         3         4\n",
       "0    0.622333 -0.140068 -0.393678  0.443221  0.654470\n",
       "1   -1.590810  0.740663  1.178807  0.906630  1.333624\n",
       "2    0.486143 -0.769232 -0.238496 -1.980235  1.527204\n",
       "3   -0.666699 -0.398547 -0.430301  1.038878 -0.639309\n",
       "4   -0.880042 -0.069241  0.144870 -0.799493  0.681846\n",
       "..        ...       ...       ...       ...       ...\n",
       "495  0.259195  0.046927 -0.457552 -0.391377  1.313623\n",
       "496 -1.095370  1.286848  1.164835  1.568213  0.518352\n",
       "497  0.775644 -0.398682  0.459322 -0.357137  0.803747\n",
       "498 -0.606240  0.527462 -0.009984  0.588121  0.596842\n",
       "499  1.824653 -0.967124 -1.281623 -1.148014  0.332582\n",
       "\n",
       "[500 rows x 5 columns]"
      ]
     },
     "execution_count": 5,
     "metadata": {},
     "output_type": "execute_result"
    }
   ],
   "source": [
    "df"
   ]
  },
  {
   "cell_type": "code",
   "execution_count": 6,
   "metadata": {},
   "outputs": [],
   "source": [
    "# Get arguments parsed\n",
    "args = get_train_args()\n",
    "\n",
    "args.n = X.shape[0]\n",
    "args.d = X.shape[1]"
   ]
  },
  {
   "cell_type": "code",
   "execution_count": 7,
   "metadata": {},
   "outputs": [
    {
     "name": "stderr",
     "output_type": "stream",
     "text": [
      "2022-04-03 08:50:23,852 INFO - helpers.log_helper - Finished configuring logger.\n",
      "2022-04-03 08:50:23,854 INFO - __main__ - Finished generating dataset\n"
     ]
    }
   ],
   "source": [
    "# Setup for logging\n",
    "output_dir = 'output/{}/{}'.format(exp_name, datetime.now(timezone('Asia/Taipei')).strftime('%Y-%m-%d_%H-%M-%S-%f')[:-3])\n",
    "create_dir(output_dir)\n",
    "LogHelper.setup(log_path='{}/training.log'.format(output_dir), level_str='INFO')\n",
    "_logger = logging.getLogger(__name__)\n",
    "\n",
    "# Save the configuration for logging purpose\n",
    "save_yaml_config(args, path='{}/config.yaml'.format(output_dir))\n",
    "\n",
    "# Reproducibility\n",
    "set_seed(args.seed)\n",
    "\n",
    "# Get dataset\n",
    "dataset = SyntheticDataset(args.n, args.d, args.graph_type, args.degree, args.sem_type,\n",
    "                           args.noise_scale, args.dataset_type)\n",
    "_logger.info('Finished generating dataset')"
   ]
  },
  {
   "cell_type": "code",
   "execution_count": 8,
   "metadata": {},
   "outputs": [
    {
     "data": {
      "text/plain": [
       "array([[ 0.62233288, -0.1400676 , -0.39367808,  0.44322063,  0.65447032],\n",
       "       [-1.59081014,  0.74066283,  1.17880657,  0.90662958,  1.33362374],\n",
       "       [ 0.48614336, -0.76923176, -0.2384962 , -1.98023549,  1.52720388],\n",
       "       ...,\n",
       "       [ 0.77564423, -0.3986819 ,  0.4593221 , -0.35713663,  0.80374734],\n",
       "       [-0.60623969,  0.52746182, -0.00998382,  0.58812071,  0.59684232],\n",
       "       [ 1.82465334, -0.96712418, -1.28162342, -1.14801374,  0.3325815 ]])"
      ]
     },
     "execution_count": 8,
     "metadata": {},
     "output_type": "execute_result"
    }
   ],
   "source": [
    "dataset.X = X\n",
    "X"
   ]
  },
  {
   "cell_type": "code",
   "execution_count": 9,
   "metadata": {},
   "outputs": [
    {
     "data": {
      "text/html": [
       "<div>\n",
       "<style scoped>\n",
       "    .dataframe tbody tr th:only-of-type {\n",
       "        vertical-align: middle;\n",
       "    }\n",
       "\n",
       "    .dataframe tbody tr th {\n",
       "        vertical-align: top;\n",
       "    }\n",
       "\n",
       "    .dataframe thead th {\n",
       "        text-align: right;\n",
       "    }\n",
       "</style>\n",
       "<table border=\"1\" class=\"dataframe\">\n",
       "  <thead>\n",
       "    <tr style=\"text-align: right;\">\n",
       "      <th></th>\n",
       "      <th>0</th>\n",
       "      <th>1</th>\n",
       "      <th>2</th>\n",
       "      <th>3</th>\n",
       "      <th>4</th>\n",
       "    </tr>\n",
       "  </thead>\n",
       "  <tbody>\n",
       "    <tr>\n",
       "      <th>0</th>\n",
       "      <td>0.000000</td>\n",
       "      <td>0.000000</td>\n",
       "      <td>0.000000</td>\n",
       "      <td>0.0</td>\n",
       "      <td>0.0</td>\n",
       "    </tr>\n",
       "    <tr>\n",
       "      <th>1</th>\n",
       "      <td>0.000000</td>\n",
       "      <td>0.000000</td>\n",
       "      <td>0.722759</td>\n",
       "      <td>0.0</td>\n",
       "      <td>0.0</td>\n",
       "    </tr>\n",
       "    <tr>\n",
       "      <th>2</th>\n",
       "      <td>-0.553782</td>\n",
       "      <td>0.000000</td>\n",
       "      <td>0.000000</td>\n",
       "      <td>0.0</td>\n",
       "      <td>0.0</td>\n",
       "    </tr>\n",
       "    <tr>\n",
       "      <th>3</th>\n",
       "      <td>0.000000</td>\n",
       "      <td>0.471242</td>\n",
       "      <td>0.000000</td>\n",
       "      <td>0.0</td>\n",
       "      <td>0.0</td>\n",
       "    </tr>\n",
       "    <tr>\n",
       "      <th>4</th>\n",
       "      <td>0.000000</td>\n",
       "      <td>0.000000</td>\n",
       "      <td>0.000000</td>\n",
       "      <td>0.0</td>\n",
       "      <td>0.0</td>\n",
       "    </tr>\n",
       "  </tbody>\n",
       "</table>\n",
       "</div>"
      ],
      "text/plain": [
       "          0         1         2    3    4\n",
       "0  0.000000  0.000000  0.000000  0.0  0.0\n",
       "1  0.000000  0.000000  0.722759  0.0  0.0\n",
       "2 -0.553782  0.000000  0.000000  0.0  0.0\n",
       "3  0.000000  0.471242  0.000000  0.0  0.0\n",
       "4  0.000000  0.000000  0.000000  0.0  0.0"
      ]
     },
     "execution_count": 9,
     "metadata": {},
     "output_type": "execute_result"
    }
   ],
   "source": [
    "# true answer\n",
    "# dataset.W = np.zeros(shape=(args.d, args.d))\n",
    "dataset.W = w_true.to_numpy()\n",
    "w_true"
   ]
  },
  {
   "cell_type": "code",
   "execution_count": 10,
   "metadata": {
    "scrolled": false
   },
   "outputs": [
    {
     "name": "stderr",
     "output_type": "stream",
     "text": [
      "2022-04-03 08:50:24,605 INFO - models.notears - Model summary:\n",
      "2022-04-03 08:50:24,605 INFO - models.notears - ---------\n",
      "2022-04-03 08:50:24,606 INFO - models.notears - Variables: name (type shape) [size]\n",
      "2022-04-03 08:50:24,606 INFO - models.notears - ---------\n",
      "2022-04-03 08:50:24,607 INFO - models.notears - Variable:0 (float32 5x5) [25, bytes: 100]\n",
      "2022-04-03 08:50:24,607 INFO - models.notears - Total size of variables: 25\n",
      "2022-04-03 08:50:24,607 INFO - models.notears - Total bytes of variables: 100\n",
      "2022-04-03 08:50:24,648 INFO - trainers.al_trainer - Started training for 20 iterations\n",
      "2022-04-03 08:50:24,649 INFO - trainers.al_trainer - rho 1.000E+00, alpha 0.000E+00\n",
      "2022-04-03 08:50:28,078 INFO - trainers.al_trainer - [Iter 1] loss 1.723E+00, mse 1.717E+03, acyclic 1.160E-01, shd 3, tpr 0.667, fdr 0.600, pred_size 5\n",
      "2022-04-03 08:50:28,080 INFO - trainers.al_trainer - rho 1.000E+00, alpha 1.160E-01\n",
      "2022-04-03 08:50:30,674 INFO - trainers.al_trainer - rho 1.000E+01, alpha 1.160E-01\n",
      "2022-04-03 08:50:33,303 INFO - trainers.al_trainer - rho 1.000E+02, alpha 1.160E-01\n",
      "2022-04-03 08:50:35,906 INFO - trainers.al_trainer - [Iter 2] loss 1.822E+00, mse 1.786E+03, acyclic 2.545E-02, shd 2, tpr 0.667, fdr 0.500, pred_size 4\n",
      "2022-04-03 08:50:35,907 INFO - trainers.al_trainer - rho 1.000E+02, alpha 2.661E+00\n",
      "2022-04-03 08:50:38,515 INFO - trainers.al_trainer - rho 1.000E+03, alpha 2.661E+00\n",
      "2022-04-03 08:50:41,113 INFO - trainers.al_trainer - [Iter 3] loss 1.912E+00, mse 1.876E+03, acyclic 6.161E-03, shd 1, tpr 0.667, fdr 0.000, pred_size 2\n",
      "2022-04-03 08:50:41,121 INFO - trainers.al_trainer - rho 1.000E+03, alpha 8.821E+00\n",
      "2022-04-03 08:50:43,740 INFO - trainers.al_trainer - rho 1.000E+04, alpha 8.821E+00\n",
      "2022-04-03 08:50:46,330 INFO - trainers.al_trainer - [Iter 4] loss 1.965E+00, mse 1.940E+03, acyclic 1.533E-03, shd 0, tpr 1.000, fdr 0.000, pred_size 3\n",
      "2022-04-03 08:50:46,338 INFO - trainers.al_trainer - rho 1.000E+04, alpha 2.415E+01\n",
      "2022-04-03 08:50:48,944 INFO - trainers.al_trainer - rho 1.000E+05, alpha 2.415E+01\n",
      "2022-04-03 08:50:51,552 INFO - trainers.al_trainer - [Iter 5] loss 1.996E+00, mse 1.982E+03, acyclic 3.424E-04, shd 0, tpr 1.000, fdr 0.000, pred_size 3\n",
      "2022-04-03 08:50:51,554 INFO - trainers.al_trainer - rho 1.000E+05, alpha 5.838E+01\n",
      "2022-04-03 08:50:54,180 INFO - trainers.al_trainer - rho 1.000E+06, alpha 5.838E+01\n",
      "2022-04-03 08:50:56,769 INFO - trainers.al_trainer - [Iter 6] loss 2.011E+00, mse 2.004E+03, acyclic 7.725E-05, shd 0, tpr 1.000, fdr 0.000, pred_size 3\n",
      "2022-04-03 08:50:56,771 INFO - trainers.al_trainer - rho 1.000E+06, alpha 1.356E+02\n",
      "2022-04-03 08:50:59,393 INFO - trainers.al_trainer - rho 1.000E+07, alpha 1.356E+02\n",
      "2022-04-03 08:51:01,995 INFO - trainers.al_trainer - [Iter 7] loss 2.019E+00, mse 2.015E+03, acyclic 1.764E-05, shd 0, tpr 1.000, fdr 0.000, pred_size 3\n",
      "2022-04-03 08:51:01,997 INFO - trainers.al_trainer - rho 1.000E+07, alpha 3.121E+02\n",
      "2022-04-03 08:51:04,607 INFO - trainers.al_trainer - rho 1.000E+08, alpha 3.121E+02\n",
      "2022-04-03 08:51:07,213 INFO - trainers.al_trainer - [Iter 8] loss 2.023E+00, mse 2.021E+03, acyclic 3.815E-06, shd 0, tpr 1.000, fdr 0.000, pred_size 3\n",
      "2022-04-03 08:51:07,215 INFO - trainers.al_trainer - rho 1.000E+08, alpha 6.935E+02\n",
      "2022-04-03 08:51:09,817 INFO - trainers.al_trainer - rho 1.000E+09, alpha 6.935E+02\n",
      "2022-04-03 08:51:12,413 INFO - trainers.al_trainer - [Iter 9] loss 2.025E+00, mse 2.024E+03, acyclic 9.537E-07, shd 0, tpr 1.000, fdr 0.000, pred_size 3\n",
      "2022-04-03 08:51:12,415 INFO - trainers.al_trainer - rho 1.000E+09, alpha 1.647E+03\n",
      "2022-04-03 08:51:15,028 INFO - trainers.al_trainer - rho 1.000E+10, alpha 1.647E+03\n",
      "2022-04-03 08:51:17,639 INFO - trainers.al_trainer - [Iter 10] loss 2.025E+00, mse 2.025E+03, acyclic 0.000E+00, shd 0, tpr 1.000, fdr 0.000, pred_size 3\n",
      "2022-04-03 08:51:17,640 INFO - trainers.al_trainer - Early stopping at 10-th iteration\n",
      "2022-04-03 08:51:17,680 INFO - trainers.al_trainer - Model saved to output/n_500_d_5_e_3_ER/2022-04-03_21-50-23-852/model/\n",
      "2022-04-03 08:51:17,682 INFO - __main__ - Finished training model\n"
     ]
    }
   ],
   "source": [
    "model = NoTears(args.n, args.d, args.seed, args.l1_lambda, args.use_float64)\n",
    "model.print_summary(print_func=model.logger.info)\n",
    "\n",
    "trainer = ALTrainer(args.init_rho, args.rho_max, args.h_factor, args.rho_multiply,\n",
    "                    args.init_iter, args.learning_rate, args.h_tol)\n",
    "W_est = trainer.train(model, dataset.X, dataset.W, args.graph_thres,\n",
    "                      args.max_iter, args.iter_step, output_dir)\n",
    "_logger.info('Finished training model')"
   ]
  },
  {
   "cell_type": "code",
   "execution_count": 11,
   "metadata": {},
   "outputs": [],
   "source": [
    "# Save raw estimated graph, ground truth and observational data after training\n",
    "np.save('{}/true_graph.npy'.format(output_dir), dataset.W)\n",
    "np.save('{}/X.npy'.format(output_dir), dataset.X)\n",
    "np.save('{}/final_raw_estimated_graph.npy'.format(output_dir), W_est)"
   ]
  },
  {
   "cell_type": "code",
   "execution_count": 12,
   "metadata": {},
   "outputs": [
    {
     "data": {
      "text/plain": [
       "array([[ 0.0000000e+00, -9.5493923e-04, -2.3580936e-04, -4.3082945e-03,\n",
       "         4.4828910e-02],\n",
       "       [-9.4176782e-03,  0.0000000e+00,  6.5528113e-01,  4.5606348e-04,\n",
       "        -5.9037898e-02],\n",
       "       [-5.5185670e-01,  2.5682000e-04,  0.0000000e+00,  1.2986644e-03,\n",
       "         4.4923179e-02],\n",
       "       [ 3.5299491e-02,  4.5630094e-01, -1.9423299e-02,  0.0000000e+00,\n",
       "         1.0557457e-02],\n",
       "       [ 3.2879289e-03, -1.9292575e-03,  1.0553958e-03, -2.5782180e-03,\n",
       "         0.0000000e+00]], dtype=float32)"
      ]
     },
     "execution_count": 12,
     "metadata": {},
     "output_type": "execute_result"
    }
   ],
   "source": [
    "W_est"
   ]
  },
  {
   "cell_type": "code",
   "execution_count": 13,
   "metadata": {
    "scrolled": false
   },
   "outputs": [
    {
     "data": {
      "image/png": "[encoded data removed]",
      "text/plain": [
       "<Figure size 576x216 with 4 Axes>"
      ]
     },
     "metadata": {
      "needs_background": "light"
     },
     "output_type": "display_data"
    },
    {
     "name": "stderr",
     "output_type": "stream",
     "text": [
      "2022-04-03 08:51:18,002 INFO - __main__ - Thresholding.\n"
     ]
    },
    {
     "data": {
      "image/png": "[encoded data removed]",
      "text/plain": [
       "<Figure size 576x216 with 4 Axes>"
      ]
     },
     "metadata": {
      "needs_background": "light"
     },
     "output_type": "display_data"
    },
    {
     "name": "stderr",
     "output_type": "stream",
     "text": [
      "2022-04-03 08:51:18,305 INFO - __main__ - Results after thresholding by 0: {'fdr': 0.85, 'tpr': 1.0, 'fpr': 2.4285714285714284, 'shd': 10, 'pred_size': 20}\n"
     ]
    }
   ],
   "source": [
    "# Plot raw estimated graph\n",
    "plot_estimated_graph(W_est, dataset.W,\n",
    "                     save_name='{}/raw_estimated_graph.png'.format(output_dir))\n",
    "\n",
    "_logger.info('Thresholding.')\n",
    "# Plot thresholded estimated graph\n",
    "args.graph_thres = 0\n",
    "copy_W_est = W_est\n",
    "copy_W_est[np.abs(W_est) < args.graph_thres] = 0   # Thresholding\n",
    "plot_estimated_graph(copy_W_est, dataset.W,\n",
    "                     save_name='{}/thresholded_estimated_graph.png'.format(output_dir))\n",
    "results_thresholded = count_accuracy(dataset.W, W_est)\n",
    "_logger.info('Results after thresholding by {}: {}'.format(args.graph_thres, results_thresholded))"
   ]
  },
  {
   "cell_type": "code",
   "execution_count": null,
   "metadata": {},
   "outputs": [],
   "source": [
    "end = time.time()\n",
    "\n",
    "_logger.info('The time used to execute this is given below')\n",
    "_logger.info(end - start)"
   ]
  },
  {
   "cell_type": "code",
   "execution_count": 14,
   "metadata": {},
   "outputs": [
    {
     "data": {
      "text/plain": [
       "(5,)"
      ]
     },
     "execution_count": 14,
     "metadata": {},
     "output_type": "execute_result"
    }
   ],
   "source": [
    "c = np.sum(copy_W_est, axis=1)\n",
    "c.shape"
   ]
  },
  {
   "cell_type": "code",
   "execution_count": 15,
   "metadata": {},
   "outputs": [
    {
     "data": {
      "text/plain": [
       "array([[ 0.0000000e+00, -9.5493923e-04, -2.3580936e-04, -4.3082945e-03,\n",
       "         4.4828910e-02],\n",
       "       [-9.4176782e-03,  0.0000000e+00,  6.5528113e-01,  4.5606348e-04,\n",
       "        -5.9037898e-02],\n",
       "       [-5.5185670e-01,  2.5682000e-04,  0.0000000e+00,  1.2986644e-03,\n",
       "         4.4923179e-02],\n",
       "       [ 3.5299491e-02,  4.5630094e-01, -1.9423299e-02,  0.0000000e+00,\n",
       "         1.0557457e-02],\n",
       "       [ 3.2879289e-03, -1.9292575e-03,  1.0553958e-03, -2.5782180e-03,\n",
       "         0.0000000e+00]], dtype=float32)"
      ]
     },
     "execution_count": 15,
     "metadata": {},
     "output_type": "execute_result"
    }
   ],
   "source": [
    "copy_W_est"
   ]
  },
  {
   "cell_type": "code",
   "execution_count": 16,
   "metadata": {},
   "outputs": [],
   "source": [
    "#result_matrix = pd.read_csv(\"W_true.csv\", header=None)"
   ]
  },
  {
   "cell_type": "code",
   "execution_count": 17,
   "metadata": {
    "scrolled": true
   },
   "outputs": [
    {
     "data": {
      "image/png": "[encoded data removed]",
      "text/plain": [
       "<IPython.core.display.Image object>"
      ]
     },
     "execution_count": 17,
     "metadata": {},
     "output_type": "execute_result"
    }
   ],
   "source": [
    "from lingam.utils import make_dot\n",
    "\n",
    "dot = make_dot(copy_W_est, labels=headers, lower_limit=0.5)\n",
    "\n",
    "# Save png\n",
    "dot.format = 'png'\n",
    "dag_path = dot.render('{}/dag'.format(output_dir))\n",
    "\n",
    "#dot.render('{}/dag'.format(output_dir))\n",
    "\n",
    "from IPython.display import Image\n",
    "Image(filename=dag_path) "
   ]
  }
 ],
 "metadata": {
  "kernelspec": {
   "display_name": "Python 3",
   "language": "python",
   "name": "python3"
  },
  "language_info": {
   "codemirror_mode": {
    "name": "ipython",
    "version": 3
   },
   "file_extension": ".py",
   "mimetype": "text/x-python",
   "name": "python",
   "nbconvert_exporter": "python",
   "pygments_lexer": "ipython3",
   "version": "3.6.9"
  }
 },
 "nbformat": 4,
 "nbformat_minor": 2
}
