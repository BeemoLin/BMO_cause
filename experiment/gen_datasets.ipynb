{
 "cells": [
  {
   "cell_type": "code",
   "execution_count": 1,
   "metadata": {},
   "outputs": [],
   "source": [
    "# !pip install causalnex\n",
    "# !pip install igraph\n",
    "import utils, os, shutil\n",
    "import numpy as np\n",
    "from collections import defaultdict\n",
    "from tqdm import tqdm\n",
    "import matplotlib.pyplot as plt\n",
    "from lingam.utils import make_dot\n",
    "\n",
    "utils.set_random_seed(123)"
   ]
  },
  {
   "cell_type": "code",
   "execution_count": 2,
   "metadata": {},
   "outputs": [],
   "source": [
    "def dataset_setting(n=2000, d=5, graph_type='ER', sem_type='gauss'):\n",
    "    # d (int): num of nodes\n",
    "    # e (int): expected num of edges 預期的邊數\n",
    "    # graph_type (str): ER, SF, BP\n",
    "    # gauss 常態分佈\n",
    "    \n",
    "    #e = d // 2\n",
    "    e = round(d * 0.6)\n",
    "\n",
    "    w_ranges = ((-0, -1.0), (0, 1))\n",
    "    # noise_scale = 1\n",
    "    # noise_scale = 0.15\n",
    "    noise_scale = 1\n",
    "    expt_name = \"./datasets/nonlinear/n_{}_d_{}_e_{}_{}\".format(n, d, e, graph_type)\n",
    "    \n",
    "    return create_dataset(n, d, e, graph_type, sem_type, w_ranges, noise_scale, expt_name)"
   ]
  },
  {
   "cell_type": "code",
   "execution_count": 3,
   "metadata": {},
   "outputs": [],
   "source": [
    "def create_dataset(n, d, e, graph_type, sem_type, w_ranges, noise_scale, expt_name):\n",
    "    \n",
    "    if os.path.isdir(expt_name):\n",
    "        shutil.rmtree(expt_name)\n",
    "\n",
    "    os.mkdir(expt_name)\n",
    "    os.chmod(expt_name, 0o777)\n",
    "    perf = defaultdict(list)\n",
    "    \n",
    "    #Simulate random DAG with some expected number of edges.\n",
    "    #Args:\n",
    "    #    d (int): num of nodes\n",
    "    #    e (int): expected num of edges\n",
    "    #    graph_type (str): ER, SF, BP\n",
    "    #Returns:\n",
    "    #    B (np.ndarray): [d, d] binary adj matrix of DAG\n",
    "    B_true = utils.simulate_dag(d, e, graph_type)\n",
    "\n",
    "\n",
    "    #Simulate SEM parameters for a DAG.\n",
    "    #Args:\n",
    "    #    B (np.ndarray): [d, d] binary adj matrix of DAG\n",
    "    #    w_ranges (tuple): disjoint weight ranges\n",
    "    #Returns:\n",
    "    #    W (np.ndarray): [d, d] weighted adj matrix of DAG\n",
    "    W_true = utils.simulate_parameter(B_true, w_ranges=w_ranges)\n",
    "\n",
    "    W_true_fn = os.path.join(expt_name, 'W_true.csv')\n",
    "    np.savetxt(W_true_fn, W_true, delimiter=',')\n",
    "\n",
    "\n",
    "    #Simulate samples from linear SEM with specified type of noise.\n",
    "    #For uniform, noise z ~ uniform(-a, a), where a = noise_scale.\n",
    "    #Args:\n",
    "    #    W (np.ndarray): [d, d] weighted adj matrix of DAG\n",
    "    #    n (int): num of samples, n=inf mimics population risk\n",
    "    #    sem_type (str): gauss, exp, gumbel, uniform, logistic, poisson\n",
    "    #    noise_scale (np.ndarray): scale parameter of additive noise, default all ones\n",
    "#     X = utils.simulate_linear_sem(W_true, n, sem_type, noise_scale=noise_scale)\n",
    "\n",
    "    \"\"\"Simulate samples from nonlinear SEM.\n",
    "    Args:\n",
    "        B (np.ndarray): [d, d] binary adj matrix of DAG\n",
    "        n (int): num of samples\n",
    "        sem_type (str): mlp, mim, gp, gp-add\n",
    "        noise_scale (np.ndarray): scale parameter of additive noise, default all ones\n",
    "    Returns:\n",
    "        X (np.ndarray): [n, d] sample matrix\n",
    "    \"\"\"\n",
    "    X = utils.simulate_nonlinear_sem(W_true, n, sem_type, noise_scale=noise_scale)\n",
    "\n",
    "    X_fn = os.path.join(expt_name, 'X.csv')\n",
    "    np.savetxt(X_fn, X, delimiter=',')\n",
    "    return B_true, W_true, X"
   ]
  },
  {
   "cell_type": "code",
   "execution_count": 4,
   "metadata": {},
   "outputs": [
    {
     "ename": "TypeError",
     "evalue": "'int' object is not subscriptable",
     "output_type": "error",
     "traceback": [
      "\u001b[0;31m---------------------------------------------------------------------------\u001b[0m",
      "\u001b[0;31mTypeError\u001b[0m                                 Traceback (most recent call last)",
      "\u001b[0;32m<ipython-input-4-217639b941c6>\u001b[0m in \u001b[0;36m<module>\u001b[0;34m\u001b[0m\n\u001b[1;32m     14\u001b[0m \u001b[0;34m\u001b[0m\u001b[0m\n\u001b[1;32m     15\u001b[0m \u001b[0;31m# samples 2000\u001b[0m\u001b[0;34m\u001b[0m\u001b[0;34m\u001b[0m\u001b[0;34m\u001b[0m\u001b[0m\n\u001b[0;32m---> 16\u001b[0;31m \u001b[0mdataset_setting\u001b[0m\u001b[0;34m(\u001b[0m\u001b[0mn\u001b[0m\u001b[0;34m=\u001b[0m\u001b[0;36m2000\u001b[0m\u001b[0;34m,\u001b[0m \u001b[0md\u001b[0m\u001b[0;34m=\u001b[0m\u001b[0;36m300\u001b[0m\u001b[0;34m,\u001b[0m \u001b[0mgraph_type\u001b[0m\u001b[0;34m=\u001b[0m\u001b[0;34m'ER'\u001b[0m\u001b[0;34m,\u001b[0m \u001b[0msem_type\u001b[0m\u001b[0;34m=\u001b[0m\u001b[0;34m'mim'\u001b[0m\u001b[0;34m)\u001b[0m\u001b[0;34m\u001b[0m\u001b[0;34m\u001b[0m\u001b[0m\n\u001b[0m\u001b[1;32m     17\u001b[0m \u001b[0mdataset_setting\u001b[0m\u001b[0;34m(\u001b[0m\u001b[0mn\u001b[0m\u001b[0;34m=\u001b[0m\u001b[0;36m2000\u001b[0m\u001b[0;34m,\u001b[0m \u001b[0md\u001b[0m\u001b[0;34m=\u001b[0m\u001b[0;36m100\u001b[0m\u001b[0;34m,\u001b[0m \u001b[0mgraph_type\u001b[0m\u001b[0;34m=\u001b[0m\u001b[0;34m'ER'\u001b[0m\u001b[0;34m,\u001b[0m \u001b[0msem_type\u001b[0m\u001b[0;34m=\u001b[0m\u001b[0;34m'mim'\u001b[0m\u001b[0;34m)\u001b[0m\u001b[0;34m\u001b[0m\u001b[0;34m\u001b[0m\u001b[0m\n\u001b[1;32m     18\u001b[0m \u001b[0mdataset_setting\u001b[0m\u001b[0;34m(\u001b[0m\u001b[0mn\u001b[0m\u001b[0;34m=\u001b[0m\u001b[0;36m2000\u001b[0m\u001b[0;34m,\u001b[0m \u001b[0md\u001b[0m\u001b[0;34m=\u001b[0m\u001b[0;36m20\u001b[0m\u001b[0;34m,\u001b[0m \u001b[0mgraph_type\u001b[0m\u001b[0;34m=\u001b[0m\u001b[0;34m'ER'\u001b[0m\u001b[0;34m,\u001b[0m \u001b[0msem_type\u001b[0m\u001b[0;34m=\u001b[0m\u001b[0;34m'mim'\u001b[0m\u001b[0;34m)\u001b[0m\u001b[0;34m\u001b[0m\u001b[0;34m\u001b[0m\u001b[0m\n",
      "\u001b[0;32m<ipython-input-2-bba0769cefb3>\u001b[0m in \u001b[0;36mdataset_setting\u001b[0;34m(n, d, graph_type, sem_type)\u001b[0m\n\u001b[1;32m     14\u001b[0m     \u001b[0mexpt_name\u001b[0m \u001b[0;34m=\u001b[0m \u001b[0;34m\"./datasets/nonlinear/n_{}_d_{}_e_{}_{}\"\u001b[0m\u001b[0;34m.\u001b[0m\u001b[0mformat\u001b[0m\u001b[0;34m(\u001b[0m\u001b[0mn\u001b[0m\u001b[0;34m,\u001b[0m \u001b[0md\u001b[0m\u001b[0;34m,\u001b[0m \u001b[0me\u001b[0m\u001b[0;34m,\u001b[0m \u001b[0mgraph_type\u001b[0m\u001b[0;34m)\u001b[0m\u001b[0;34m\u001b[0m\u001b[0;34m\u001b[0m\u001b[0m\n\u001b[1;32m     15\u001b[0m \u001b[0;34m\u001b[0m\u001b[0m\n\u001b[0;32m---> 16\u001b[0;31m     \u001b[0;32mreturn\u001b[0m \u001b[0mcreate_dataset\u001b[0m\u001b[0;34m(\u001b[0m\u001b[0mn\u001b[0m\u001b[0;34m,\u001b[0m \u001b[0md\u001b[0m\u001b[0;34m,\u001b[0m \u001b[0me\u001b[0m\u001b[0;34m,\u001b[0m \u001b[0mgraph_type\u001b[0m\u001b[0;34m,\u001b[0m \u001b[0msem_type\u001b[0m\u001b[0;34m,\u001b[0m \u001b[0mw_ranges\u001b[0m\u001b[0;34m,\u001b[0m \u001b[0mnoise_scale\u001b[0m\u001b[0;34m,\u001b[0m \u001b[0mexpt_name\u001b[0m\u001b[0;34m)\u001b[0m\u001b[0;34m\u001b[0m\u001b[0;34m\u001b[0m\u001b[0m\n\u001b[0m",
      "\u001b[0;32m<ipython-input-3-ea0acd5f763e>\u001b[0m in \u001b[0;36mcreate_dataset\u001b[0;34m(n, d, e, graph_type, sem_type, w_ranges, noise_scale, expt_name)\u001b[0m\n\u001b[1;32m     48\u001b[0m         \u001b[0mX\u001b[0m \u001b[0;34m(\u001b[0m\u001b[0mnp\u001b[0m\u001b[0;34m.\u001b[0m\u001b[0mndarray\u001b[0m\u001b[0;34m)\u001b[0m\u001b[0;34m:\u001b[0m \u001b[0;34m[\u001b[0m\u001b[0mn\u001b[0m\u001b[0;34m,\u001b[0m \u001b[0md\u001b[0m\u001b[0;34m]\u001b[0m \u001b[0msample\u001b[0m \u001b[0mmatrix\u001b[0m\u001b[0;34m\u001b[0m\u001b[0;34m\u001b[0m\u001b[0m\n\u001b[1;32m     49\u001b[0m     \"\"\"\n\u001b[0;32m---> 50\u001b[0;31m     \u001b[0mX\u001b[0m \u001b[0;34m=\u001b[0m \u001b[0mutils\u001b[0m\u001b[0;34m.\u001b[0m\u001b[0msimulate_nonlinear_sem\u001b[0m\u001b[0;34m(\u001b[0m\u001b[0mW_true\u001b[0m\u001b[0;34m,\u001b[0m \u001b[0mn\u001b[0m\u001b[0;34m,\u001b[0m \u001b[0msem_type\u001b[0m\u001b[0;34m,\u001b[0m \u001b[0mnoise_scale\u001b[0m\u001b[0;34m=\u001b[0m\u001b[0mnoise_scale\u001b[0m\u001b[0;34m)\u001b[0m\u001b[0;34m\u001b[0m\u001b[0;34m\u001b[0m\u001b[0m\n\u001b[0m\u001b[1;32m     51\u001b[0m \u001b[0;34m\u001b[0m\u001b[0m\n\u001b[1;32m     52\u001b[0m     \u001b[0mX_fn\u001b[0m \u001b[0;34m=\u001b[0m \u001b[0mos\u001b[0m\u001b[0;34m.\u001b[0m\u001b[0mpath\u001b[0m\u001b[0;34m.\u001b[0m\u001b[0mjoin\u001b[0m\u001b[0;34m(\u001b[0m\u001b[0mexpt_name\u001b[0m\u001b[0;34m,\u001b[0m \u001b[0;34m'X.csv'\u001b[0m\u001b[0;34m)\u001b[0m\u001b[0;34m\u001b[0m\u001b[0;34m\u001b[0m\u001b[0m\n",
      "\u001b[0;32m/tf/notebooks/experiment/utils.py\u001b[0m in \u001b[0;36msimulate_nonlinear_sem\u001b[0;34m(B, n, sem_type, noise_scale)\u001b[0m\n\u001b[1;32m    195\u001b[0m     \u001b[0;32mfor\u001b[0m \u001b[0mj\u001b[0m \u001b[0;32min\u001b[0m \u001b[0mordered_vertices\u001b[0m\u001b[0;34m:\u001b[0m\u001b[0;34m\u001b[0m\u001b[0;34m\u001b[0m\u001b[0m\n\u001b[1;32m    196\u001b[0m         \u001b[0mparents\u001b[0m \u001b[0;34m=\u001b[0m \u001b[0mG\u001b[0m\u001b[0;34m.\u001b[0m\u001b[0mneighbors\u001b[0m\u001b[0;34m(\u001b[0m\u001b[0mj\u001b[0m\u001b[0;34m,\u001b[0m \u001b[0mmode\u001b[0m\u001b[0;34m=\u001b[0m\u001b[0mig\u001b[0m\u001b[0;34m.\u001b[0m\u001b[0mIN\u001b[0m\u001b[0;34m)\u001b[0m\u001b[0;34m\u001b[0m\u001b[0;34m\u001b[0m\u001b[0m\n\u001b[0;32m--> 197\u001b[0;31m         \u001b[0mX\u001b[0m\u001b[0;34m[\u001b[0m\u001b[0;34m:\u001b[0m\u001b[0;34m,\u001b[0m \u001b[0mj\u001b[0m\u001b[0;34m]\u001b[0m \u001b[0;34m=\u001b[0m \u001b[0m_simulate_single_equation\u001b[0m\u001b[0;34m(\u001b[0m\u001b[0mX\u001b[0m\u001b[0;34m[\u001b[0m\u001b[0;34m:\u001b[0m\u001b[0;34m,\u001b[0m \u001b[0mparents\u001b[0m\u001b[0;34m]\u001b[0m\u001b[0;34m,\u001b[0m \u001b[0mscale_vec\u001b[0m\u001b[0;34m[\u001b[0m\u001b[0mj\u001b[0m\u001b[0;34m]\u001b[0m\u001b[0;34m)\u001b[0m\u001b[0;34m\u001b[0m\u001b[0;34m\u001b[0m\u001b[0m\n\u001b[0m\u001b[1;32m    198\u001b[0m     \u001b[0;32mreturn\u001b[0m \u001b[0mX\u001b[0m\u001b[0;34m\u001b[0m\u001b[0;34m\u001b[0m\u001b[0m\n\u001b[1;32m    199\u001b[0m \u001b[0;34m\u001b[0m\u001b[0m\n",
      "\u001b[0;31mTypeError\u001b[0m: 'int' object is not subscriptable"
     ]
    }
   ],
   "source": [
    "## ER\n",
    "\n",
    "# # samples 2000\n",
    "# dataset_setting(n=2000, d=300, graph_type='ER', sem_type='gauss')\n",
    "# dataset_setting(n=2000, d=100, graph_type='ER', sem_type='gauss')\n",
    "# dataset_setting(n=2000, d=20, graph_type='ER', sem_type='gauss')\n",
    "\n",
    "# # samples 500\n",
    "# dataset_setting(n=500, d=300, graph_type='ER', sem_type='gauss')\n",
    "# dataset_setting(n=500, d=100, graph_type='ER', sem_type='gauss')\n",
    "# B_true, W_true, X = dataset_setting(n=500, d=20, graph_type='ER', sem_type='gauss')\n",
    "\n",
    "#nonliner\n",
    "\n",
    "# samples 2000\n",
    "dataset_setting(n=2000, d=300, graph_type='ER', sem_type='mim')\n",
    "dataset_setting(n=2000, d=100, graph_type='ER', sem_type='mim')\n",
    "dataset_setting(n=2000, d=20, graph_type='ER', sem_type='mim')\n",
    "\n",
    "# samples 500\n",
    "dataset_setting(n=500, d=300, graph_type='ER', sem_type='mim')\n",
    "dataset_setting(n=500, d=100, graph_type='ER', sem_type='mim')\n",
    "B_true, W_true, X = dataset_setting(n=500, d=20, graph_type='ER', sem_type='mim')\n",
    "\n",
    "# draw graph\n",
    "\n",
    "dot = make_dot(W_true)\n",
    "\n",
    "# Save png\n",
    "dot.format = 'png'\n",
    "\n",
    "dot.render('./dag')\n",
    "\n",
    "from IPython.display import Image\n",
    "Image(filename='dag.png') "
   ]
  },
  {
   "cell_type": "code",
   "execution_count": null,
   "metadata": {},
   "outputs": [],
   "source": [
    "## SF\n",
    "\n",
    "# # samples 2000\n",
    "# dataset_setting(n=2000, d=300, graph_type='SF', sem_type='gauss')\n",
    "# dataset_setting(n=2000, d=100, graph_type='SF', sem_type='gauss')\n",
    "# dataset_setting(n=2000, d=20, graph_type='SF', sem_type='gauss')\n",
    "\n",
    "# # samples 500\n",
    "# dataset_setting(n=500, d=300, graph_type='SF', sem_type='gauss')\n",
    "# dataset_setting(n=500, d=100, graph_type='SF', sem_type='gauss')\n",
    "# B_true, W_true, X = dataset_setting(n=500, d=20, graph_type='SF', sem_type='gauss')\n",
    "\n",
    "\n",
    "# samples 2000\n",
    "dataset_setting(n=2000, d=300, graph_type='SF', sem_type='mim')\n",
    "dataset_setting(n=2000, d=100, graph_type='SF', sem_type='mim')\n",
    "dataset_setting(n=2000, d=20, graph_type='SF', sem_type='mim')\n",
    "\n",
    "# samples 500\n",
    "dataset_setting(n=500, d=300, graph_type='SF', sem_type='mim')\n",
    "dataset_setting(n=500, d=100, graph_type='SF', sem_type='mim')\n",
    "B_true, W_true, X = dataset_setting(n=500, d=20, graph_type='SF', sem_type='mim')\n",
    "\n",
    "# draw graph\n",
    "\n",
    "dot = make_dot(W_true)\n",
    "\n",
    "# Save png\n",
    "dot.format = 'png'\n",
    "\n",
    "dot.render('./dag')\n",
    "\n",
    "from IPython.display import Image\n",
    "Image(filename='dag.png') "
   ]
  },
  {
   "cell_type": "code",
   "execution_count": null,
   "metadata": {},
   "outputs": [],
   "source": [
    "B_true, W_true, X = dataset_setting(n=500, d=5, graph_type='ER', sem_type='gauss')\n",
    "\n",
    "# draw graph\n",
    "\n",
    "dot = make_dot(W_true)\n",
    "\n",
    "# Save png\n",
    "dot.format = 'png'\n",
    "\n",
    "dot.render('./dag')\n",
    "\n",
    "from IPython.display import Image\n",
    "Image(filename='dag.png') "
   ]
  },
  {
   "cell_type": "code",
   "execution_count": null,
   "metadata": {},
   "outputs": [],
   "source": [
    "B_true"
   ]
  },
  {
   "cell_type": "code",
   "execution_count": null,
   "metadata": {
    "scrolled": false
   },
   "outputs": [],
   "source": [
    "W_true"
   ]
  },
  {
   "cell_type": "code",
   "execution_count": null,
   "metadata": {
    "scrolled": true
   },
   "outputs": [],
   "source": [
    "X.shape"
   ]
  }
 ],
 "metadata": {
  "kernelspec": {
   "display_name": "Python 3",
   "language": "python",
   "name": "python3"
  },
  "language_info": {
   "codemirror_mode": {
    "name": "ipython",
    "version": 3
   },
   "file_extension": ".py",
   "mimetype": "text/x-python",
   "name": "python",
   "nbconvert_exporter": "python",
   "pygments_lexer": "ipython3",
   "version": "3.6.9"
  }
 },
 "nbformat": 4,
 "nbformat_minor": 2
}
