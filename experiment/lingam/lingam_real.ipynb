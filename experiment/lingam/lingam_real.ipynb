{
 "cells": [
  {
   "cell_type": "code",
   "execution_count": 1,
   "metadata": {
    "scrolled": false
   },
   "outputs": [],
   "source": [
    "# !apt-get update && apt-get install -y graphviz "
   ]
  },
  {
   "cell_type": "code",
   "execution_count": 2,
   "metadata": {},
   "outputs": [],
   "source": [
    "import time\n",
    "\n",
    "start = time.time()"
   ]
  },
  {
   "cell_type": "code",
   "execution_count": 3,
   "metadata": {},
   "outputs": [],
   "source": [
    "import os\n",
    "import logging\n",
    "from pytz import timezone\n",
    "from datetime import datetime\n",
    "\n",
    "from helpers.log_helper import LogHelper\n",
    "from helpers.dir_utils import create_dir\n",
    "from helpers.analyze_utils import count_accuracy, plot_estimated_graph"
   ]
  },
  {
   "cell_type": "code",
   "execution_count": 4,
   "metadata": {},
   "outputs": [
    {
     "name": "stdout",
     "output_type": "stream",
     "text": [
      "['1.19.5', '1.1.5', '0.19.1', '1.5.5']\n"
     ]
    }
   ],
   "source": [
    "import numpy as np\n",
    "import pandas as pd\n",
    "import graphviz\n",
    "import lingam\n",
    "from lingam.utils import make_dot\n",
    "\n",
    "print([np.__version__, pd.__version__, graphviz.__version__, lingam.__version__])\n",
    "\n",
    "np.set_printoptions(precision=3, suppress=True)\n",
    "np.random.seed(1)\n",
    "\n",
    "# exp_name = 'skab_tempture' # 14.csv Water supply of increased temperature\n",
    "# exp_name = 'skab_vibration' # 5.csv Sharply behavior of rotor imbalance\n",
    "# exp_name = 'skab_less_water' # 12.csv Draining water from the tank until cavitation\n",
    "# exp_name = 'skab_leaks_fluid' # 1.csv Simulation of fluid leaks and fluid additions\n",
    "exp_name = 'skab_rotor_imbalance' # 6.csv Linear behavior of rotor imbalance\n",
    "\n",
    "dataset_path = '../../experiment/datasets/{}.csv'.format(exp_name)\n",
    "\n",
    "headers = pd.read_csv(dataset_path, nrows=0).columns.tolist()\n",
    "\n",
    "# true_path = '../../experiment/datasets/{}_W_true.csv'.format(exp_name)\n",
    "\n",
    "headers = [c for c in headers if c != 'datetime']\n",
    "\n",
    "df = pd.read_csv(dataset_path, usecols=headers)\n",
    "# df = df[100:200]\n",
    "X = pd.DataFrame(df)\n",
    "\n",
    "model = lingam.DirectLiNGAM()\n",
    "model.fit(X)\n",
    "\n",
    "W_est = model.adjacency_matrix_\n",
    "\n",
    "# W_true = pd.read_csv(true_path, header=None)\n",
    "W_true = np.zeros([X.shape[0], X.shape[0]])"
   ]
  },
  {
   "cell_type": "code",
   "execution_count": 5,
   "metadata": {},
   "outputs": [
    {
     "name": "stderr",
     "output_type": "stream",
     "text": [
      "2022-04-18 13:16:41,357 INFO - helpers.log_helper - Finished configuring logger.\n"
     ]
    }
   ],
   "source": [
    "# Setup for logging\n",
    "output_dir = 'output/{}/{}'.format(exp_name, datetime.now(timezone('Asia/Taipei')).strftime('%Y-%m-%d_%H-%M-%S-%f')[:-3])\n",
    "create_dir(output_dir)\n",
    "LogHelper.setup(log_path='{}/training.log'.format(output_dir), level_str='INFO')\n",
    "_logger = logging.getLogger(__name__)"
   ]
  },
  {
   "cell_type": "code",
   "execution_count": 6,
   "metadata": {},
   "outputs": [],
   "source": [
    "# !pip install graphviz"
   ]
  },
  {
   "cell_type": "code",
   "execution_count": 7,
   "metadata": {},
   "outputs": [],
   "source": [
    "# # Save w_est png\n",
    "# dot = make_dot(W_est, labels=headers)\n",
    "\n",
    "# dot.format = 'png'\n",
    "\n",
    "# w_est_dag = dot.render('{}/w_est_dag'.format(output_dir))\n",
    "\n",
    "# # Save w_true png\n",
    "# dot = make_dot(W_true)\n",
    "\n",
    "# dot.format = 'png'\n",
    "\n",
    "# w_true_dag = dot.render('{}/w_true_dag'.format(output_dir))"
   ]
  },
  {
   "cell_type": "code",
   "execution_count": 8,
   "metadata": {},
   "outputs": [
    {
     "data": {
      "text/plain": [
       "array([[ 0.   ,  0.887,  0.   ,  0.   ,  0.   ,  0.   ,  0.   ,  0.   ,\n",
       "         0.033,  0.   ],\n",
       "       [ 0.   ,  0.   ,  0.   ,  0.   ,  0.   ,  0.   ,  0.   ,  0.   ,\n",
       "         0.   ,  0.   ],\n",
       "       [ 0.   ,  0.154,  0.   ,  0.   ,  0.   ,  0.   ,  0.   ,  0.   ,\n",
       "         0.   ,  0.   ],\n",
       "       [ 0.   ,  0.   ,  0.   ,  0.   ,  0.   ,  0.   ,  0.   ,  0.   ,\n",
       "         0.   ,  0.   ],\n",
       "       [ 0.   , -0.103,  0.   ,  0.   ,  0.   ,  0.   ,  0.   ,  0.   ,\n",
       "        -0.182,  0.   ],\n",
       "       [ 0.   ,  0.018,  0.   ,  0.   , -0.044,  0.   ,  0.   ,  0.   ,\n",
       "         0.   ,  0.   ],\n",
       "       [ 0.   ,  0.   ,  8.993,  0.   ,  0.   ,  0.   ,  0.   ,  0.   ,\n",
       "         0.   ,  0.   ],\n",
       "       [ 0.   , -2.212,  0.   ,  0.   ,  0.   ,  0.   ,  0.   ,  0.   ,\n",
       "         0.   ,  0.   ],\n",
       "       [ 0.   ,  2.211,  0.   ,  0.   ,  0.   ,  0.   ,  0.   ,  0.   ,\n",
       "         0.   ,  0.   ],\n",
       "       [ 0.   ,  0.   ,  0.   ,  0.   ,  0.   ,  0.   ,  0.   ,  0.   ,\n",
       "         0.   ,  0.   ]])"
      ]
     },
     "execution_count": 8,
     "metadata": {},
     "output_type": "execute_result"
    }
   ],
   "source": [
    "model.adjacency_matrix_"
   ]
  },
  {
   "cell_type": "code",
   "execution_count": 9,
   "metadata": {
    "scrolled": false
   },
   "outputs": [
    {
     "data": {
      "image/png": "[encoded data removed]",
      "text/plain": [
       "<Figure size 576x216 with 4 Axes>"
      ]
     },
     "metadata": {
      "needs_background": "light"
     },
     "output_type": "display_data"
    },
    {
     "name": "stderr",
     "output_type": "stream",
     "text": [
      "2022-04-18 13:16:41,790 INFO - __main__ - Thresholding.\n"
     ]
    },
    {
     "data": {
      "image/png": "[encoded data removed]",
      "text/plain": [
       "<Figure size 576x216 with 4 Axes>"
      ]
     },
     "metadata": {
      "needs_background": "light"
     },
     "output_type": "display_data"
    },
    {
     "name": "stderr",
     "output_type": "stream",
     "text": [
      "2022-04-18 13:16:42,178 INFO - __main__ - Results after thresholding by 0.0: {'fdr': 1.0, 'tpr': 0.0, 'fpr': 0.2222222222222222, 'shd': 10, 'pred_size': 10}\n"
     ]
    }
   ],
   "source": [
    "# Plot raw estimated graph\n",
    "plot_estimated_graph(W_est, W_true, save_name='{}/raw_estimated_graph.png'.format(output_dir))\n",
    "\n",
    "_logger.info('Thresholding.')\n",
    "# Plot thresholded estimated graph\n",
    "graph_thres = 0.0\n",
    "copy_W_est = W_est\n",
    "copy_W_est[np.abs(W_est) < graph_thres] = 0   # Thresholding\n",
    "plot_estimated_graph(copy_W_est, W_true, save_name='{}/thresholded_estimated_graph.png'.format(output_dir))\n",
    "results_thresholded = count_accuracy(W_true, W_est)\n",
    "_logger.info('Results after thresholding by {}: {}'.format(graph_thres, results_thresholded))"
   ]
  },
  {
   "cell_type": "code",
   "execution_count": 10,
   "metadata": {},
   "outputs": [
    {
     "name": "stderr",
     "output_type": "stream",
     "text": [
      "2022-04-18 13:16:42,182 INFO - __main__ - The time used to execute this is given below\n",
      "2022-04-18 13:16:42,183 INFO - __main__ - 1.9283032417297363\n"
     ]
    }
   ],
   "source": [
    "end = time.time()\n",
    "\n",
    "_logger.info('The time used to execute this is given below')\n",
    "_logger.info(end - start)"
   ]
  },
  {
   "cell_type": "code",
   "execution_count": 11,
   "metadata": {},
   "outputs": [
    {
     "data": {
      "image/svg+xml": [
       "<?xml version=\"1.0\" encoding=\"UTF-8\" standalone=\"no\"?>\n",
       "<!DOCTYPE svg PUBLIC \"-//W3C//DTD SVG 1.1//EN\"\n",
       " \"http://www.w3.org/Graphics/SVG/1.1/DTD/svg11.dtd\">\n",
       "<!-- Generated by graphviz version 2.40.1 (20161225.0304)\n",
       " -->\n",
       "<!-- Title: %3 Pages: 1 -->\n",
       "<svg width=\"465pt\" height=\"305pt\"\n",
       " viewBox=\"0.00 0.00 465.44 305.00\" xmlns=\"http://www.w3.org/2000/svg\" xmlns:xlink=\"http://www.w3.org/1999/xlink\">\n",
       "<g id=\"graph0\" class=\"graph\" transform=\"scale(1 1) rotate(0) translate(4 301)\">\n",
       "<title>%3</title>\n",
       "<polygon fill=\"#ffffff\" stroke=\"transparent\" points=\"-4,4 -4,-301 461.4423,-301 461.4423,4 -4,4\"/>\n",
       "<!-- 震動1 -->\n",
       "<g id=\"node1\" class=\"node\">\n",
       "<title>震動1</title>\n",
       "<ellipse fill=\"none\" stroke=\"#000000\" cx=\"119.2474\" cy=\"-105\" rx=\"35.194\" ry=\"18\"/>\n",
       "<text text-anchor=\"middle\" x=\"119.2474\" y=\"-101.3\" font-family=\"Times,serif\" font-size=\"14.00\" fill=\"#000000\">震動1</text>\n",
       "</g>\n",
       "<!-- 震動2 -->\n",
       "<g id=\"node2\" class=\"node\">\n",
       "<title>震動2</title>\n",
       "<ellipse fill=\"none\" stroke=\"#000000\" cx=\"214.2474\" cy=\"-279\" rx=\"35.194\" ry=\"18\"/>\n",
       "<text text-anchor=\"middle\" x=\"214.2474\" y=\"-275.3\" font-family=\"Times,serif\" font-size=\"14.00\" fill=\"#000000\">震動2</text>\n",
       "</g>\n",
       "<!-- 震動2&#45;&gt;震動1 -->\n",
       "<g id=\"edge1\" class=\"edge\">\n",
       "<title>震動2&#45;&gt;震動1</title>\n",
       "<path fill=\"none\" stroke=\"#000000\" d=\"M184.0265,-269.609C157.4218,-259.5513 120.3344,-240.7409 103.2474,-210 89.8852,-185.9602 97.5253,-154.2891 106.2301,-132.0402\"/>\n",
       "<polygon fill=\"#000000\" stroke=\"#000000\" points=\"109.5747,-133.1163 110.2329,-122.5419 103.1241,-130.3978 109.5747,-133.1163\"/>\n",
       "<text text-anchor=\"middle\" x=\"119.2474\" y=\"-188.3\" font-family=\"Times,serif\" font-size=\"14.00\" fill=\"#000000\">0.89</text>\n",
       "</g>\n",
       "<!-- 電流 -->\n",
       "<g id=\"node3\" class=\"node\">\n",
       "<title>電流</title>\n",
       "<ellipse fill=\"none\" stroke=\"#000000\" cx=\"29.2474\" cy=\"-192\" rx=\"29.4969\" ry=\"18\"/>\n",
       "<text text-anchor=\"middle\" x=\"29.2474\" y=\"-188.3\" font-family=\"Times,serif\" font-size=\"14.00\" fill=\"#000000\">電流</text>\n",
       "</g>\n",
       "<!-- 震動2&#45;&gt;電流 -->\n",
       "<g id=\"edge3\" class=\"edge\">\n",
       "<title>震動2&#45;&gt;電流</title>\n",
       "<path fill=\"none\" stroke=\"#000000\" d=\"M179.6636,-275.4122C136.9577,-270.3317 67.5832,-259.7502 48.2474,-243 41.3691,-237.0415 36.9771,-228.3478 34.174,-219.8203\"/>\n",
       "<polygon fill=\"#000000\" stroke=\"#000000\" points=\"37.5279,-218.8139 31.5597,-210.06 30.7663,-220.6251 37.5279,-218.8139\"/>\n",
       "<text text-anchor=\"middle\" x=\"64.2474\" y=\"-231.8\" font-family=\"Times,serif\" font-size=\"14.00\" fill=\"#000000\">0.15</text>\n",
       "</g>\n",
       "<!-- 馬達溫度 -->\n",
       "<g id=\"node5\" class=\"node\">\n",
       "<title>馬達溫度</title>\n",
       "<ellipse fill=\"none\" stroke=\"#000000\" cx=\"227.2474\" cy=\"-105\" rx=\"48.1917\" ry=\"18\"/>\n",
       "<text text-anchor=\"middle\" x=\"227.2474\" y=\"-101.3\" font-family=\"Times,serif\" font-size=\"14.00\" fill=\"#000000\">馬達溫度</text>\n",
       "</g>\n",
       "<!-- 震動2&#45;&gt;馬達溫度 -->\n",
       "<g id=\"edge4\" class=\"edge\">\n",
       "<title>震動2&#45;&gt;馬達溫度</title>\n",
       "<path fill=\"none\" stroke=\"#000000\" d=\"M220.1246,-261.2437C221.7738,-255.4884 223.3583,-249.0323 224.2474,-243 229.7694,-205.536 229.6173,-161.7409 228.692,-133.7058\"/>\n",
       "<polygon fill=\"#000000\" stroke=\"#000000\" points=\"232.1784,-133.2833 228.2941,-123.4262 225.1836,-133.5541 232.1784,-133.2833\"/>\n",
       "<text text-anchor=\"middle\" x=\"247.7474\" y=\"-188.3\" font-family=\"Times,serif\" font-size=\"14.00\" fill=\"#000000\">&#45;0.10</text>\n",
       "</g>\n",
       "<!-- 水溫 -->\n",
       "<g id=\"node6\" class=\"node\">\n",
       "<title>水溫</title>\n",
       "<ellipse fill=\"none\" stroke=\"#000000\" cx=\"271.2474\" cy=\"-18\" rx=\"29.4969\" ry=\"18\"/>\n",
       "<text text-anchor=\"middle\" x=\"271.2474\" y=\"-14.3\" font-family=\"Times,serif\" font-size=\"14.00\" fill=\"#000000\">水溫</text>\n",
       "</g>\n",
       "<!-- 震動2&#45;&gt;水溫 -->\n",
       "<g id=\"edge6\" class=\"edge\">\n",
       "<title>震動2&#45;&gt;水溫</title>\n",
       "<path fill=\"none\" stroke=\"#000000\" d=\"M231.2852,-263.118C244.1282,-250.1124 261.0491,-230.5611 270.2474,-210 298.7699,-146.2435 305.2947,-121.9772 289.2474,-54 288.4768,-50.7356 287.3623,-47.4298 286.0601,-44.2127\"/>\n",
       "<polygon fill=\"#000000\" stroke=\"#000000\" points=\"289.1435,-42.5432 281.746,-34.9585 282.799,-45.5009 289.1435,-42.5432\"/>\n",
       "<text text-anchor=\"middle\" x=\"311.2474\" y=\"-144.8\" font-family=\"Times,serif\" font-size=\"14.00\" fill=\"#000000\">0.02</text>\n",
       "</g>\n",
       "<!-- 循環水流量 -->\n",
       "<g id=\"node8\" class=\"node\">\n",
       "<title>循環水流量</title>\n",
       "<ellipse fill=\"none\" stroke=\"#000000\" cx=\"388.2474\" cy=\"-192\" rx=\"57.3905\" ry=\"18\"/>\n",
       "<text text-anchor=\"middle\" x=\"388.2474\" y=\"-188.3\" font-family=\"Times,serif\" font-size=\"14.00\" fill=\"#000000\">循環水流量</text>\n",
       "</g>\n",
       "<!-- 震動2&#45;&gt;循環水流量 -->\n",
       "<g id=\"edge9\" class=\"edge\">\n",
       "<title>震動2&#45;&gt;循環水流量</title>\n",
       "<path fill=\"none\" stroke=\"#000000\" d=\"M241.5582,-267.3718C247.0492,-265.1631 252.8051,-262.9387 258.2474,-261 284.0731,-251.8 292.6758,-255.159 317.2474,-243 332.2782,-235.5621 347.5614,-225.0433 360.0788,-215.4889\"/>\n",
       "<polygon fill=\"#000000\" stroke=\"#000000\" points=\"362.5501,-217.9991 368.2656,-209.0782 358.2344,-212.4878 362.5501,-217.9991\"/>\n",
       "<text text-anchor=\"middle\" x=\"360.7474\" y=\"-231.8\" font-family=\"Times,serif\" font-size=\"14.00\" fill=\"#000000\">&#45;2.21</text>\n",
       "</g>\n",
       "<!-- 異常 -->\n",
       "<g id=\"node9\" class=\"node\">\n",
       "<title>異常</title>\n",
       "<ellipse fill=\"none\" stroke=\"#000000\" cx=\"173.2474\" cy=\"-192\" rx=\"29.4969\" ry=\"18\"/>\n",
       "<text text-anchor=\"middle\" x=\"173.2474\" y=\"-188.3\" font-family=\"Times,serif\" font-size=\"14.00\" fill=\"#000000\">異常</text>\n",
       "</g>\n",
       "<!-- 震動2&#45;&gt;異常 -->\n",
       "<g id=\"edge10\" class=\"edge\">\n",
       "<title>震動2&#45;&gt;異常</title>\n",
       "<path fill=\"none\" stroke=\"#000000\" d=\"M202.8117,-261.8012C199.1848,-255.9672 195.3223,-249.3237 192.2474,-243 188.5869,-235.4719 185.1844,-227.0463 182.2998,-219.246\"/>\n",
       "<polygon fill=\"#000000\" stroke=\"#000000\" points=\"185.5935,-218.0618 178.9425,-209.8147 178.9989,-220.4094 185.5935,-218.0618\"/>\n",
       "<text text-anchor=\"middle\" x=\"208.2474\" y=\"-231.8\" font-family=\"Times,serif\" font-size=\"14.00\" fill=\"#000000\">2.21</text>\n",
       "</g>\n",
       "<!-- 電壓 -->\n",
       "<g id=\"node7\" class=\"node\">\n",
       "<title>電壓</title>\n",
       "<ellipse fill=\"none\" stroke=\"#000000\" cx=\"29.2474\" cy=\"-105\" rx=\"29.4969\" ry=\"18\"/>\n",
       "<text text-anchor=\"middle\" x=\"29.2474\" y=\"-101.3\" font-family=\"Times,serif\" font-size=\"14.00\" fill=\"#000000\">電壓</text>\n",
       "</g>\n",
       "<!-- 電流&#45;&gt;電壓 -->\n",
       "<g id=\"edge8\" class=\"edge\">\n",
       "<title>電流&#45;&gt;電壓</title>\n",
       "<path fill=\"none\" stroke=\"#000000\" d=\"M29.2474,-173.9735C29.2474,-162.1918 29.2474,-146.5607 29.2474,-133.1581\"/>\n",
       "<polygon fill=\"#000000\" stroke=\"#000000\" points=\"32.7475,-133.0033 29.2474,-123.0034 25.7475,-133.0034 32.7475,-133.0033\"/>\n",
       "<text text-anchor=\"middle\" x=\"45.2474\" y=\"-144.8\" font-family=\"Times,serif\" font-size=\"14.00\" fill=\"#000000\">8.99</text>\n",
       "</g>\n",
       "<!-- 壓力 -->\n",
       "<g id=\"node4\" class=\"node\">\n",
       "<title>壓力</title>\n",
       "<ellipse fill=\"none\" stroke=\"#000000\" cx=\"296.2474\" cy=\"-279\" rx=\"29.4969\" ry=\"18\"/>\n",
       "<text text-anchor=\"middle\" x=\"296.2474\" y=\"-275.3\" font-family=\"Times,serif\" font-size=\"14.00\" fill=\"#000000\">壓力</text>\n",
       "</g>\n",
       "<!-- 馬達溫度&#45;&gt;水溫 -->\n",
       "<g id=\"edge7\" class=\"edge\">\n",
       "<title>馬達溫度&#45;&gt;水溫</title>\n",
       "<path fill=\"none\" stroke=\"#000000\" d=\"M235.9103,-86.9971C240.6634,-77.2038 246.7022,-64.8976 252.2474,-54 253.8669,-50.8173 255.5874,-47.4884 257.3058,-44.195\"/>\n",
       "<polygon fill=\"#000000\" stroke=\"#000000\" points=\"260.5012,-45.6383 262.058,-35.1585 254.3057,-42.3802 260.5012,-45.6383\"/>\n",
       "<text text-anchor=\"middle\" x=\"270.7474\" y=\"-57.8\" font-family=\"Times,serif\" font-size=\"14.00\" fill=\"#000000\">&#45;0.04</text>\n",
       "</g>\n",
       "<!-- 異常&#45;&gt;震動1 -->\n",
       "<g id=\"edge2\" class=\"edge\">\n",
       "<title>異常&#45;&gt;震動1</title>\n",
       "<path fill=\"none\" stroke=\"#000000\" d=\"M152.7715,-178.7C144.9564,-172.6523 136.6389,-164.8606 131.2474,-156 127.0393,-149.0842 124.3068,-140.813 122.5325,-132.9646\"/>\n",
       "<polygon fill=\"#000000\" stroke=\"#000000\" points=\"125.9585,-132.2428 120.7083,-123.0403 119.0738,-133.5083 125.9585,-132.2428\"/>\n",
       "<text text-anchor=\"middle\" x=\"147.2474\" y=\"-144.8\" font-family=\"Times,serif\" font-size=\"14.00\" fill=\"#000000\">0.03</text>\n",
       "</g>\n",
       "<!-- 異常&#45;&gt;馬達溫度 -->\n",
       "<g id=\"edge5\" class=\"edge\">\n",
       "<title>異常&#45;&gt;馬達溫度</title>\n",
       "<path fill=\"none\" stroke=\"#000000\" d=\"M175.6181,-174.0009C177.575,-163.7512 181.075,-151.0012 187.2474,-141 190.0581,-136.4458 193.6136,-132.1273 197.4399,-128.167\"/>\n",
       "<polygon fill=\"#000000\" stroke=\"#000000\" points=\"200.1371,-130.4341 205.0072,-121.0249 195.3324,-125.3434 200.1371,-130.4341\"/>\n",
       "<text text-anchor=\"middle\" x=\"205.7474\" y=\"-144.8\" font-family=\"Times,serif\" font-size=\"14.00\" fill=\"#000000\">&#45;0.18</text>\n",
       "</g>\n",
       "<!-- 異常點變化 -->\n",
       "<g id=\"node10\" class=\"node\">\n",
       "<title>異常點變化</title>\n",
       "<ellipse fill=\"none\" stroke=\"#000000\" cx=\"400.2474\" cy=\"-279\" rx=\"57.3905\" ry=\"18\"/>\n",
       "<text text-anchor=\"middle\" x=\"400.2474\" y=\"-275.3\" font-family=\"Times,serif\" font-size=\"14.00\" fill=\"#000000\">異常點變化</text>\n",
       "</g>\n",
       "</g>\n",
       "</svg>\n"
      ],
      "text/plain": [
       "<graphviz.graphs.Digraph at 0x7f8b42e14c88>"
      ]
     },
     "execution_count": 11,
     "metadata": {},
     "output_type": "execute_result"
    }
   ],
   "source": [
    "headers = ['震動1', '震動2', '電流', '壓力', '馬達溫度', '水溫', '電壓', '循環水流量', '異常', '異常點變化']\n",
    "# Accelerometer1 震動1\n",
    "# Accelerometer2 震動2\n",
    "# Current 電流\n",
    "# Pressure 壓力\n",
    "# Temperature 馬達溫度\n",
    "# Thermocouple 水溫\n",
    "# Voltage 電壓\n",
    "# RateRMS 循環水流量\n",
    "# anomaly 異常\n",
    "# changepoint 異常點變化\n",
    "\n",
    "dot = make_dot(copy_W_est, labels=headers)\n",
    "dot.format = 'png'\n",
    "\n",
    "w_est_dag = dot.render('{}/w_est_dag'.format(output_dir))\n",
    "\n",
    "dot\n",
    "\n",
    "# # draw est dag\n",
    "# from IPython.display import Image\n",
    "# Image(w_est_dag) "
   ]
  },
  {
   "cell_type": "code",
   "execution_count": 12,
   "metadata": {},
   "outputs": [
    {
     "name": "stdout",
     "output_type": "stream",
     "text": [
      "digraph {\n",
      "\t\"震動1\"\n",
      "\t\"震動2\"\n",
      "\t\"電流\"\n",
      "\t\"壓力\"\n",
      "\t\"馬達溫度\"\n",
      "\t\"水溫\"\n",
      "\t\"電壓\"\n",
      "\t\"循環水流量\"\n",
      "\t\"異常\"\n",
      "\t\"異常點變化\"\n",
      "\t\"震動2\" -> \"震動1\" [label=0.89]\n",
      "\t\"異常\" -> \"震動1\" [label=0.03]\n",
      "\t\"震動2\" -> \"電流\" [label=0.15]\n",
      "\t\"震動2\" -> \"馬達溫度\" [label=-0.10]\n",
      "\t\"異常\" -> \"馬達溫度\" [label=-0.18]\n",
      "\t\"震動2\" -> \"水溫\" [label=0.02]\n",
      "\t\"馬達溫度\" -> \"水溫\" [label=-0.04]\n",
      "\t\"電流\" -> \"電壓\" [label=8.99]\n",
      "\t\"震動2\" -> \"循環水流量\" [label=-2.21]\n",
      "\t\"震動2\" -> \"異常\" [label=2.21]\n",
      "\t{\n",
      "\t\trank=same\n",
      "\t}\n",
      "}\n",
      "\n"
     ]
    }
   ],
   "source": [
    "print(dot)"
   ]
  },
  {
   "cell_type": "code",
   "execution_count": 13,
   "metadata": {},
   "outputs": [],
   "source": [
    "# draw true dag\n",
    "# from IPython.display import Image\n",
    "# Image(w_true_dag) "
   ]
  },
  {
   "cell_type": "code",
   "execution_count": null,
   "metadata": {},
   "outputs": [],
   "source": []
  },
  {
   "cell_type": "code",
   "execution_count": null,
   "metadata": {},
   "outputs": [],
   "source": []
  }
 ],
 "metadata": {
  "kernelspec": {
   "display_name": "Python 3",
   "language": "python",
   "name": "python3"
  },
  "language_info": {
   "codemirror_mode": {
    "name": "ipython",
    "version": 3
   },
   "file_extension": ".py",
   "mimetype": "text/x-python",
   "name": "python",
   "nbconvert_exporter": "python",
   "pygments_lexer": "ipython3",
   "version": "3.6.9"
  }
 },
 "nbformat": 4,
 "nbformat_minor": 2
}
